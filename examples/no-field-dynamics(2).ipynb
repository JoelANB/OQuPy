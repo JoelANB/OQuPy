{
 "cells": [
  {
   "cell_type": "markdown",
   "metadata": {},
   "source": [
    "This notebooks uses a `SuperTimeDependentSystem` to determine the spin expectation of systems within a super-system (in the absence of a field)."
   ]
  },
  {
   "cell_type": "code",
   "execution_count": 1,
   "metadata": {},
   "outputs": [],
   "source": [
    "import sys\n",
    "sys.path.insert(0,'..')\n",
    "import oqupy\n",
    "import numpy as np\n",
    "import matplotlib.pyplot as plt\n",
    "from oqupy import contractions"
   ]
  },
  {
   "cell_type": "code",
   "execution_count": 2,
   "metadata": {},
   "outputs": [
    {
     "data": {
      "text/plain": [
       "'0.3.1'"
      ]
     },
     "execution_count": 2,
     "metadata": {},
     "output_type": "execute_result"
    }
   ],
   "source": [
    "oqupy.__version__"
   ]
  },
  {
   "cell_type": "code",
   "execution_count": 3,
   "metadata": {},
   "outputs": [],
   "source": [
    "sigma_z = oqupy.operators.sigma(\"z\")\n",
    "sigma_plus = oqupy.operators.sigma(\"+\")\n",
    "sigma_minus = oqupy.operators.sigma(\"-\")"
   ]
  },
  {
   "cell_type": "code",
   "execution_count": 4,
   "metadata": {},
   "outputs": [],
   "source": [
    "alpha_one = 0.1\n",
    "alpha_two = 0.9 \n",
    "alpha_three = 0.25\n",
    "nu_c = 227.9\n",
    "T = 39.3\n",
    "omega_0 = 0.0\n",
    "omega_c = -30.4\n",
    "Omega = 303.9\n",
    "\n",
    "kappa = 15.2\n",
    "Gamma_down = 30.4\n",
    "Gamma_up = 0.8 * Gamma_down\n"
   ]
  },
  {
   "cell_type": "code",
   "execution_count": 5,
   "metadata": {},
   "outputs": [],
   "source": [
    "# define no-field functions and variables\n",
    "def gaussian_shape(t, area = 1.0, tau = 1.0, t_0 = 0.0):\n",
    "    return area/(tau*np.sqrt(np.pi)) * np.exp(-(t-t_0)**2/(tau**2))\n",
    "detuning = lambda t: 0.0 * t\n",
    "\n",
    "def hamiltonian_no_field(t):\n",
    "    return detuning(t)/2.0 * sigma_z \\\n",
    "           + gaussian_shape(t, area = np.pi/2.0, tau = 0.245)/2.0 * sigma_z"
   ]
  },
  {
   "cell_type": "code",
   "execution_count": 6,
   "metadata": {},
   "outputs": [],
   "source": [
    "# define system objects (with no field)\n",
    "gammas = [ lambda t: Gamma_down, lambda t: Gamma_up]\n",
    "lindblad_operators = [ lambda t: sigma_minus, lambda t: sigma_plus]\n",
    "\n",
    "system_no_field_one = oqupy.TimeDependentSystem(hamiltonian_no_field, gammas=gammas,\n",
    "        lindblad_operators=lindblad_operators)\n",
    "        \n",
    "system_no_field_two = oqupy.TimeDependentSystem(hamiltonian_no_field, gammas=gammas,\n",
    "        lindblad_operators=lindblad_operators)"
   ]
  },
  {
   "cell_type": "code",
   "execution_count": 7,
   "metadata": {},
   "outputs": [],
   "source": [
    "correlations_one = oqupy.PowerLawSD(alpha=alpha_one,\n",
    "                                zeta=1,\n",
    "                                cutoff=nu_c,\n",
    "                                cutoff_type='gaussian',\n",
    "                                temperature=T)\n",
    "correlations_two = oqupy.PowerLawSD(alpha=alpha_two,\n",
    "                                zeta=1,\n",
    "                                cutoff=nu_c,\n",
    "                                cutoff_type='gaussian',\n",
    "                                temperature=T)\n",
    "\n",
    "correlations_three = oqupy.PowerLawSD(alpha=alpha_three,\n",
    "                                zeta=1,\n",
    "                                cutoff=nu_c,\n",
    "                                cutoff_type='gaussian',\n",
    "                                temperature=T)\n",
    "\n",
    "bath_one = oqupy.Bath(0.5 * sigma_z, correlations_one)\n",
    "bath_two = oqupy.Bath(0.5 * sigma_z, correlations_two)\n",
    "bath_three = oqupy.Bath(0.5 * sigma_z, correlations_three)"
   ]
  },
  {
   "cell_type": "code",
   "execution_count": 8,
   "metadata": {},
   "outputs": [],
   "source": [
    "initial_field = np.sqrt(0.05)               # Note n_0 = <a^dagger a>(0) = 0.05\n",
    "initial_state_one = np.array([[0,0],[0,1]]) # spin down\n",
    "initial_state_two = np.array([[0,0],[0,1]]) # spin down"
   ]
  },
  {
   "cell_type": "code",
   "execution_count": 9,
   "metadata": {},
   "outputs": [
    {
     "name": "stdout",
     "output_type": "stream",
     "text": [
      "--> PT-TEMPO computation:\n",
      "100.0%  406 of  406 [########################################] 00:00:08\n",
      "Elapsed time: 8.5s\n",
      "--> PT-TEMPO computation:\n",
      "100.0%  406 of  406 [########################################] 00:00:23\n",
      "Elapsed time: 23.7s\n",
      "--> PT-TEMPO computation:\n",
      "100.0%  406 of  406 [########################################] 00:00:10\n",
      "Elapsed time: 10.2s\n"
     ]
    }
   ],
   "source": [
    "# compute process tensors\n",
    "tempo_parameters = oqupy.TempoParameters(dt=3.2e-3, dkmax=20, epsrel=10**(-5))\n",
    "start_time = 0.0\n",
    "end_time = 1.3\n",
    "\n",
    "process_tensor_one = oqupy.pt_tempo_compute(bath=bath_one,\n",
    "                                        start_time=start_time,\n",
    "                                        end_time=end_time,\n",
    "                                        parameters=tempo_parameters)\n",
    "\n",
    "process_tensor_two = oqupy.pt_tempo_compute(bath=bath_two,\n",
    "                                        start_time=0.0,\n",
    "                                        end_time=end_time,\n",
    "                                        parameters=tempo_parameters)\n",
    "\n",
    "process_tensor_three = oqupy.pt_tempo_compute(bath=bath_three,\n",
    "                                        start_time=0.0,\n",
    "                                        end_time=end_time,\n",
    "                                        parameters=tempo_parameters)"
   ]
  },
  {
   "cell_type": "code",
   "execution_count": 10,
   "metadata": {},
   "outputs": [
    {
     "name": "stdout",
     "output_type": "stream",
     "text": [
      "--> Compute dynamics:\n",
      "100.0%  406 of  406 [########################################] 00:00:10\n",
      "Elapsed time: 10.7s\n"
     ]
    }
   ],
   "source": [
    "# compute dynamics of super-system\n",
    "initial_state_list = [initial_state_one , initial_state_two]\n",
    "\n",
    "super_system = oqupy.SuperTimeDependentSystem([system_no_field_one, system_no_field_two])\n",
    "\n",
    "super_system_dynamics = contractions.compute_dynamics_multiple_systems(super_system, initial_state_list=initial_state_list, \n",
    "                                                                                        start_time=start_time,\n",
    "                                                                                        process_tensor_list = [[process_tensor_one, process_tensor_three], process_tensor_two] # made this a list to prevent object duplication\n",
    "                                                                                        )\n",
    "dynamics_list = super_system_dynamics.dynamics_list"
   ]
  },
  {
   "cell_type": "code",
   "execution_count": 11,
   "metadata": {},
   "outputs": [
    {
     "data": {
      "text/plain": [
       "<matplotlib.legend.Legend at 0x2d530665370>"
      ]
     },
     "execution_count": 11,
     "metadata": {},
     "output_type": "execute_result"
    },
    {
     "data": {
      "image/png": "[encoded data removed]",
      "text/plain": [
       "<Figure size 432x288 with 1 Axes>"
      ]
     },
     "metadata": {
      "needs_background": "light"
     },
     "output_type": "display_data"
    }
   ],
   "source": [
    "# plot spin expectation of systems within super-system\n",
    "t_list = []\n",
    "n_list = []\n",
    "tsz_list = []\n",
    "sz_list = []\n",
    "\n",
    "for dynamics in dynamics_list:\n",
    "    t, s_z = dynamics.expectations(0.5*sigma_z, real=True)\n",
    "    tsz_list.append(t)\n",
    "    sz_list.append(s_z)\n",
    "\n",
    "alphas = [alpha_one, alpha_two]\n",
    "for i in range(len(tsz_list)):\n",
    "    if i == 0:\n",
    "        label = f\"System {i}, alpha = {alphas[i]}, {alpha_three}\"\n",
    "    else:\n",
    "        label = f\"System {i}, alpha = {alphas[i]}\"\n",
    "    plt.plot(tsz_list[i], sz_list[i], label=label)\n",
    "    \n",
    "plt.xlabel(r'$t\\,\\Omega$')\n",
    "plt.ylabel(r'$<S_z>$')\n",
    "plt.ylim(-0.056,-0.054)\n",
    "plt.legend(loc='lower right')"
   ]
  }
 ],
 "metadata": {
  "kernelspec": {
   "display_name": "Python 3.8.7 ('oqupy_env': venv)",
   "language": "python",
   "name": "python3"
  },
  "language_info": {
   "codemirror_mode": {
    "name": "ipython",
    "version": 3
   },
   "file_extension": ".py",
   "mimetype": "text/x-python",
   "name": "python",
   "nbconvert_exporter": "python",
   "pygments_lexer": "ipython3",
   "version": "3.8.7"
  },
  "orig_nbformat": 4,
  "vscode": {
   "interpreter": {
    "hash": "0fa9779bf51bb2438704d17095e3c20a9cfae197a1b59b001d50d35ca2021d94"
   }
  }
 },
 "nbformat": 4,
 "nbformat_minor": 2
}
