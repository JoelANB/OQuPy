{
 "cells": [
  {
   "cell_type": "markdown",
   "metadata": {},
   "source": [
    "# TimeEvolvingMPO - Tutorial\n",
    "\n"
   ]
  },
  {
   "cell_type": "markdown",
   "metadata": {},
   "source": [
    "First, let's import TimeEvolvingMPO and some other packages we are going to use"
   ]
  },
  {
   "cell_type": "code",
   "execution_count": 1,
   "metadata": {},
   "outputs": [],
   "source": [
    "import sys\n",
    "sys.path.insert(0,'..')\n",
    "import os\n",
    "from time import time\n",
    "\n",
    "os.environ['OPENBLAS_NUM_THREADS'] = '1'\n",
    "os.environ['MKL_NUM_THREADS'] = '1'\n",
    "os.environ['OMP_NUM_THREADS'] = '1'\n",
    "os.environ['NUMEXPR_NUM_THREADS'] = '1'\n",
    "\n",
    "import time_evolving_mpo as tempo\n",
    "import numpy as np\n",
    "import matplotlib.pyplot as plt\n",
    "# %matplotlib notebook"
   ]
  },
  {
   "cell_type": "code",
   "execution_count": 2,
   "metadata": {},
   "outputs": [],
   "source": [
    "Omega = 1.0\n",
    "omega_cutoff = 3.0\n",
    "alpha = 0.12\n",
    "start_time = 0.0\n",
    "end_time = 10.0\n",
    "initial_state = tempo.operators.spin_dm(\"plus-y\")\n",
    "\n",
    "system = tempo.System(0.0 * Omega * tempo.operators.sigma(\"x\"))\n",
    "correlations = tempo.PowerLawSD(alpha=alpha, \n",
    "                                zeta=3, \n",
    "                                cutoff=omega_cutoff, \n",
    "                                cutoff_type='exponential',\n",
    "                                temperature=0.13,\n",
    "                                max_correlation_time=3.0)\n",
    "bath = tempo.Bath(0.5 * tempo.operators.sigma(\"z\"), correlations)"
   ]
  },
  {
   "cell_type": "markdown",
   "metadata": {},
   "source": [
    "## TEMPO"
   ]
  },
  {
   "cell_type": "code",
   "execution_count": 3,
   "metadata": {
    "scrolled": true
   },
   "outputs": [
    {
     "name": "stdout",
     "output_type": "stream",
     "text": [
      "100.0%  200 of  200 [########################################] 00:00:22\n",
      "Elapsed time: 23.0s\n"
     ]
    }
   ],
   "source": [
    "tempo_parameters = tempo.TempoParameters(dt=0.05, dkmax=100, epsrel=10**(-6.0))\n",
    "tempo_sys = tempo.Tempo(system=system,\n",
    "                        bath=bath,\n",
    "                        parameters=tempo_parameters,\n",
    "                        initial_state=initial_state,\n",
    "                        start_time=start_time)\n",
    "tempo_sys.compute(end_time=end_time, progress_type='bar')\n",
    "\n",
    "dynamics = tempo_sys.get_dynamics()\n",
    "t1, s1_y = dynamics.expectations(tempo.operators.sigma(\"y\"), real=True)\n",
    "\n"
   ]
  },
  {
   "cell_type": "markdown",
   "metadata": {},
   "source": [
    "## Process Tensor  TEMPO"
   ]
  },
  {
   "cell_type": "code",
   "execution_count": 4,
   "metadata": {},
   "outputs": [
    {
     "name": "stdout",
     "output_type": "stream",
     "text": [
      "100.0%  200 of  200 [########################################] 00:01:04\n",
      "Elapsed time: 64.6s\n"
     ]
    }
   ],
   "source": [
    "pt_tempo_parameters = tempo.PtTempoParameters(dt=0.05, dkmax=100, epsrel=10**(-7.0))\n",
    "pt = tempo.pt_tempo_compute(bath=bath,\n",
    "                            start_time=start_time,\n",
    "                            end_time=end_time,\n",
    "                            parameters=pt_tempo_parameters,\n",
    "                            progress_type='bar')\n",
    "pt.export(\"process_tensor_example.processTensor\",overwrite=True)"
   ]
  },
  {
   "cell_type": "code",
   "execution_count": 6,
   "metadata": {},
   "outputs": [
    {
     "name": "stdout",
     "output_type": "stream",
     "text": [
      "0.3082003593444824\n",
      "[[ 4.99971748e-01-1.77211042e-07j -8.41258729e-06-3.95691612e-01j]\n",
      " [-6.53009395e-06+3.95689313e-01j  4.99971059e-01+1.14959781e-07j]]\n"
     ]
    }
   ],
   "source": [
    "pt = tempo.import_process_tensor(\"process_tensor_example.processTensor\")\n",
    "\n",
    "st = time()\n",
    "state = pt.compute_final_state_from_system(system=system, initial_state=initial_state)\n",
    "et = time()\n",
    "\n",
    "print(et-st)\n",
    "print(state)"
   ]
  },
  {
   "cell_type": "code",
   "execution_count": 7,
   "metadata": {},
   "outputs": [
    {
     "name": "stdout",
     "output_type": "stream",
     "text": [
      "0.5054948329925537\n",
      "----------------------------------------------\n",
      "Dynamics object: __unnamed__\n",
      " __no_description__\n",
      "  length        = 201 timesteps \n",
      "  min time      = 0.0 \n",
      "  max time      = 10.0 \n",
      "\n"
     ]
    }
   ],
   "source": [
    "st = time()\n",
    "dyn = pt.compute_dynamics_from_system(system=system, initial_state=initial_state)\n",
    "et = time()\n",
    "print(et-st)\n",
    "print(dyn)"
   ]
  },
  {
   "cell_type": "code",
   "execution_count": 8,
   "metadata": {},
   "outputs": [],
   "source": [
    "t2, s2_y = dyn.expectations(tempo.operators.sigma(\"y\"), real=True)"
   ]
  },
  {
   "cell_type": "code",
   "execution_count": 9,
   "metadata": {},
   "outputs": [
    {
     "data": {
      "text/plain": [
       "<matplotlib.legend.Legend at 0x7f1638155080>"
      ]
     },
     "execution_count": 9,
     "metadata": {},
     "output_type": "execute_result"
    },
    {
     "data": {
      "image/png": "[encoded data removed]",
      "text/plain": [
       "<Figure size 432x288 with 1 Axes>"
      ]
     },
     "metadata": {
      "needs_background": "light"
     },
     "output_type": "display_data"
    }
   ],
   "source": [
    "plt.plot(t1, s1_y, label=r'$\\alpha=0.1$ tempo')\n",
    "plt.plot(t2, s2_y, label=r'$\\alpha=0.1$ pt-tempo', linestyle=\"dashed\")\n",
    "plt.xlabel(r'$t\\,\\Omega$')\n",
    "plt.ylabel(r'$<S_y>$')\n",
    "plt.legend()"
   ]
  },
  {
   "cell_type": "code",
   "execution_count": 10,
   "metadata": {},
   "outputs": [
    {
     "data": {
      "text/plain": [
       "array([  1,   4,  16,  32,  46,  52,  56,  59,  62,  63,  64,  65,  67,\n",
       "        68,  70,  70,  70,  72,  73,  71,  72,  73,  71,  73,  75,  76,\n",
       "        77,  78,  80,  81,  81,  80,  80,  78,  77,  78,  78,  79,  81,\n",
       "        82,  83,  84,  84,  85,  83,  85,  84,  85,  83,  86,  86,  88,\n",
       "        89,  89,  90,  88,  88,  88,  85,  86,  87,  87,  88,  90,  90,\n",
       "        92,  92,  93,  94,  95,  97,  96,  96,  93,  92,  94,  94,  94,\n",
       "        96,  97,  98,  98,  99, 100, 101, 101, 101, 103, 103, 103, 106,\n",
       "       105, 106, 107, 107, 107, 105, 102, 101, 100, 101, 102, 102, 102,\n",
       "       104, 105, 104, 103, 103, 103, 103, 101, 101, 101,  98,  97,  96,\n",
       "        95,  94,  92,  92,  92,  91,  91,  90,  89,  88,  89,  87,  88,\n",
       "        86,  86,  86,  86,  85,  85,  84,  84,  83,  83,  83,  84,  80,\n",
       "        81,  80,  80,  79,  80,  78,  78,  78,  77,  75,  76,  76,  75,\n",
       "        74,  73,  72,  71,  72,  72,  70,  70,  69,  69,  69,  68,  67,\n",
       "        68,  67,  65,  65,  66,  64,  63,  63,  64,  63,  63,  62,  60,\n",
       "        61,  60,  57,  57,  56,  56,  55,  53,  51,  50,  46,  42,  38,\n",
       "        32,  26,  17,   9,   3,   1])"
      ]
     },
     "execution_count": 10,
     "metadata": {},
     "output_type": "execute_result"
    }
   ],
   "source": [
    "pt.get_bond_dimensions()"
   ]
  },
  {
   "cell_type": "code",
   "execution_count": null,
   "metadata": {},
   "outputs": [],
   "source": []
  }
 ],
 "metadata": {
  "kernelspec": {
   "display_name": "Python 3",
   "language": "python",
   "name": "python3"
  },
  "language_info": {
   "codemirror_mode": {
    "name": "ipython",
    "version": 3
   },
   "file_extension": ".py",
   "mimetype": "text/x-python",
   "name": "python",
   "nbconvert_exporter": "python",
   "pygments_lexer": "ipython3",
   "version": "3.6.12"
  },
  "widgets": {
   "application/vnd.jupyter.widget-state+json": {
    "state": {},
    "version_major": 1,
    "version_minor": 0
   }
  }
 },
 "nbformat": 4,
 "nbformat_minor": 2
}
