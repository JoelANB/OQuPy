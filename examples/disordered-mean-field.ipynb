{
 "cells": [
  {
   "cell_type": "code",
   "execution_count": 1,
   "metadata": {},
   "outputs": [],
   "source": [
    "import sys\n",
    "sys.path.insert(0,'..')\n",
    "import oqupy\n",
    "import numpy as np\n",
    "import matplotlib.pyplot as plt\n",
    "from oqupy import contractions\n",
    "\n",
    "from scipy import special"
   ]
  },
  {
   "cell_type": "code",
   "execution_count": 2,
   "metadata": {},
   "outputs": [],
   "source": [
    "alpha = 0.25\n",
    "nu_c = 0.15 #0.15*1000 # 227.9\n",
    "T = 0.026   #0.026*1000 # 39.3\n",
    "omega_c = 0.0\n",
    "#omega_0_list = [] #omega_0 = 0.0 # CHANGES\n",
    "Omega = 0.2        #0.2 # 303.9\n",
    "kappa = 0.01       #0.01*1000 #15.2\n",
    "Gamma_down = 0.01  #0.01*1000 #30.4\n",
    "Gamma_up = 0.01    #0.01*1000 #0.8 * Gamma_down\n",
    "\n",
    "sigma_z = oqupy.operators.sigma(\"z\")\n",
    "sigma_plus = oqupy.operators.sigma(\"+\")\n",
    "sigma_minus = oqupy.operators.sigma(\"-\")\n",
    "\n",
    "gammas = [lambda t: Gamma_down, lambda t: Gamma_up]\n",
    "lindblad_operators = [lambda t: sigma_minus, lambda t: sigma_plus]\n",
    "\n",
    "initial_field = np.sqrt(0.05)               # Note n_0 = <a^dagger a>(0) = 0.05\n",
    "initial_state = np.array([[0,0],[0,1]])     # spin down"
   ]
  },
  {
   "cell_type": "code",
   "execution_count": 3,
   "metadata": {},
   "outputs": [
    {
     "data": {
      "text/plain": [
       "[<matplotlib.lines.Line2D at 0x2911cdc8fd0>]"
      ]
     },
     "execution_count": 3,
     "metadata": {},
     "output_type": "execute_result"
    },
    {
     "data": {
      "image/png": "[encoded data removed]",
      "text/plain": [
       "<Figure size 432x288 with 1 Axes>"
      ]
     },
     "metadata": {
      "needs_background": "light"
     },
     "output_type": "display_data"
    }
   ],
   "source": [
    "# define list of possible main values for omega_0 of individual systems\n",
    "omega_0_list = [0.05, 0.1, 0.4, 0.5, 0.8, 1]\n",
    "omega_0_list = [nu_c*i for i in omega_0_list]\n",
    "\n",
    "\n",
    "# plot sample values for systems within a super-system\n",
    "sample__omega_0 = omega_0_list[5]\n",
    "value_range = np.linspace(-0.9, 0.9, num=10)\n",
    "plt.xlabel(r'Domain Values')\n",
    "plt.ylabel(r'$\\omega_0$')\n",
    "plt.plot(value_range, sample__omega_0*special.erfinv(value_range))"
   ]
  },
  {
   "cell_type": "code",
   "execution_count": 4,
   "metadata": {},
   "outputs": [
    {
     "name": "stdout",
     "output_type": "stream",
     "text": [
      "--> PT-TEMPO computation:\n",
      "100.0%  160 of  160 [########################################] 00:00:07\n",
      "Elapsed time: 7.3s\n"
     ]
    }
   ],
   "source": [
    "# define process tensor\n",
    "\n",
    "correlations = oqupy.PowerLawSD(alpha=alpha,\n",
    "                                zeta=1,\n",
    "                                cutoff=nu_c,\n",
    "                                cutoff_type='gaussian',\n",
    "                                temperature=T)\n",
    "\n",
    "bath = oqupy.Bath(0.5 * sigma_z, correlations)\n",
    "\n",
    "tempo_parameters = oqupy.TempoParameters(dt=0.5, dkmax=20, epsrel=10**(-5))\n",
    "start_time = 0.0\n",
    "end_time = 80 #1.5\n",
    "\n",
    "process_tensor = oqupy.pt_tempo_compute(bath=bath,\n",
    "                                        start_time=start_time,\n",
    "                                        end_time=end_time,\n",
    "                                        parameters=tempo_parameters)\n"
   ]
  },
  {
   "cell_type": "code",
   "execution_count": 5,
   "metadata": {},
   "outputs": [],
   "source": [
    "num_systems = 20 # number of systems within a super-system\n",
    "\n",
    "initial_state_list = [initial_state for i in range(num_systems)]\n",
    "fractions = [1/num_systems for i in range(num_systems)]\n",
    "\n",
    "# define field equation of motion of super-system\n",
    "def field_eom(t, states, field):\n",
    "    sx_exp_list = [np.matmul(sigma_minus, state).trace() for state in states]\n",
    "    sx_exp_weighted_sum = sum([fraction*sx_exp for fraction, sx_exp in zip(fractions, sx_exp_list)])\n",
    "    return -(1j*omega_c+kappa)*field - 0.5j*Omega*sx_exp_weighted_sum\n",
    "\n",
    "# define field equation of motion for single system within super-system\n",
    "def single_field_eom(t, state, a):\n",
    "        expect_val = np.matmul(sigma_minus, state).trace()\n",
    "        return -(1j * omega_c + kappa) * a - 0.5j * Omega * expect_val\n",
    "\n",
    "# define domain of values over which inverse error fucntion will be taken\n",
    "value_range = np.linspace(-0.9, 0.9, num=num_systems)\n",
    "\n",
    "# initialize list of super systems\n",
    "super_system_list = []\n",
    "\n",
    "for omega_0 in omega_0_list:\n",
    "\n",
    "    system_omega_0_values = omega_0*special.erfinv(value_range)\n",
    "    system_list = []\n",
    "\n",
    "    for omega_0_val in system_omega_0_values:\n",
    "\n",
    "        # define mean field Hamiltonian \n",
    "        # (taking care to avoid late binding issue: https://docs.python-guide.org/writing/gotchas/#late-binding-closures)\n",
    "        def H_MF(t, a, omega_0_val=omega_0_val):\n",
    "            return 0.5 * omega_0_val * sigma_z +\\\n",
    "                0.5 * Omega * (a * sigma_plus + np.conj(a) * sigma_minus)\n",
    "\n",
    "        system = oqupy.TimeDependentSystemWithField(\n",
    "                    hamiltonian=H_MF,\n",
    "                    field_eom=single_field_eom,\n",
    "                    gammas=gammas,\n",
    "                    lindblad_operators=lindblad_operators)\n",
    "\n",
    "        system_list.append(system)\n",
    "    \n",
    "    super_system = oqupy.SuperTimeDependentSystemWithField(system_list, field_eom=field_eom)\n",
    "    super_system_list.append(super_system)"
   ]
  },
  {
   "cell_type": "code",
   "execution_count": 6,
   "metadata": {},
   "outputs": [
    {
     "data": {
      "text/plain": [
       "'# compute dynamics of super-systems\\nsuper_t_list =[]\\nsuper_n_list = []\\nfor super_sytem in super_system_list:\\n    t_list = []\\n    n_list = []\\n    super_system_dynamics = contractions.compute_dynamics_with_field_multiple_systems(system=super_system, initial_field=initial_field, \\n                                                                                    initial_state_list=initial_state_list, \\n                                                                                    start_time=start_time,\\n                                                                                    process_tensor_list = process_tensor\\n                                                                                    )\\n    for dynamics in super_system_dynamics.dynamics_list:\\n        t_list.append(dynamics.times)\\n        n_list.append(np.abs(dynamics.fields)**2)\\n    \\n    super_t_list.append(t_list)\\n    super_n_list.append(n_list)\\n    \\nfor i, (t_list, n_list) in enumerate(zip(super_t_list, super_n_list)):\\n    # plot dynamics of first system in super-system \\n    # (all should give the same plot in this case)\\n    label = f\"Super-System {i}, main_omega_0 = {\\'{:.3f}\\'.format(omega_0_list[i])}\"\\n    plt.plot(t_list[0], n_list[0], label=label)\\n\\nplt.xlabel(r\\'$t$ (ps)\\')\\nplt.ylabel(r\\'$n/N$\\')\\nplt.legend(loc=\\'best\\') \\n\\n\\n    \\n\\n#plt.tight_layout()\\n\\n\\n#plt.ylim((0.04999995,0.05))\\n#plt.xlim((0,0.00125))\\n\\n#plt.title(f\"Super-System {i}, main_omega_0 = {\\'{:.2f}\\'.format(omega_0_list[i])}\")\\n#plt.savefig(f\"Super-System {i}, main_omega_0 = {\\'{:.2f}\\'.format(omega_0_list[i])}.png\")'"
      ]
     },
     "execution_count": 6,
     "metadata": {},
     "output_type": "execute_result"
    }
   ],
   "source": [
    "\"\"\"# compute dynamics of super-systems\n",
    "super_t_list =[]\n",
    "super_n_list = []\n",
    "for super_sytem in super_system_list:\n",
    "    t_list = []\n",
    "    n_list = []\n",
    "    super_system_dynamics = contractions.compute_dynamics_with_field_multiple_systems(system=super_system, initial_field=initial_field, \n",
    "                                                                                    initial_state_list=initial_state_list, \n",
    "                                                                                    start_time=start_time,\n",
    "                                                                                    process_tensor_list = process_tensor\n",
    "                                                                                    )\n",
    "    for dynamics in super_system_dynamics.dynamics_list:\n",
    "        t_list.append(dynamics.times)\n",
    "        n_list.append(np.abs(dynamics.fields)**2)\n",
    "    \n",
    "    super_t_list.append(t_list)\n",
    "    super_n_list.append(n_list)\n",
    "    \n",
    "for i, (t_list, n_list) in enumerate(zip(super_t_list, super_n_list)):\n",
    "    # plot dynamics of first system in super-system \n",
    "    # (all should give the same plot in this case)\n",
    "    label = f\"Super-System {i}, main_omega_0 = {'{:.3f}'.format(omega_0_list[i])}\"\n",
    "    plt.plot(t_list[0], n_list[0], label=label)\n",
    "\n",
    "plt.xlabel(r'$t$ (ps)')\n",
    "plt.ylabel(r'$n/N$')\n",
    "plt.legend(loc='best') \n",
    "\n",
    "\n",
    "    \n",
    "\n",
    "#plt.tight_layout()\n",
    "\n",
    "\n",
    "#plt.ylim((0.04999995,0.05))\n",
    "#plt.xlim((0,0.00125))\n",
    "\n",
    "#plt.title(f\"Super-System {i}, main_omega_0 = {'{:.2f}'.format(omega_0_list[i])}\")\n",
    "#plt.savefig(f\"Super-System {i}, main_omega_0 = {'{:.2f}'.format(omega_0_list[i])}.png\")\"\"\""
   ]
  },
  {
   "cell_type": "code",
   "execution_count": 7,
   "metadata": {},
   "outputs": [
    {
     "name": "stdout",
     "output_type": "stream",
     "text": [
      "--> Compute dynamics with field:\n",
      "100.0%  160 of  160 [########################################] 00:02:12\n",
      "Elapsed time: 132.5s\n",
      "--> Compute dynamics with field:\n",
      "100.0%  160 of  160 [########################################] 00:02:08\n",
      "Elapsed time: 128.6s\n",
      "--> Compute dynamics with field:\n",
      "100.0%  160 of  160 [########################################] 00:02:08\n",
      "Elapsed time: 128.5s\n",
      "--> Compute dynamics with field:\n",
      "100.0%  160 of  160 [########################################] 00:02:10\n",
      "Elapsed time: 130.2s\n",
      "--> Compute dynamics with field:\n",
      "100.0%  160 of  160 [########################################] 00:02:10\n",
      "Elapsed time: 130.8s\n",
      "--> Compute dynamics with field:\n",
      "100.0%  160 of  160 [########################################] 00:02:13\n",
      "Elapsed time: 133.5s\n"
     ]
    },
    {
     "data": {
      "image/png": "[encoded data removed]",
      "text/plain": [
       "<Figure size 432x288 with 1 Axes>"
      ]
     },
     "metadata": {
      "needs_background": "light"
     },
     "output_type": "display_data"
    }
   ],
   "source": [
    "for i, super_system in enumerate(super_system_list):\n",
    "    t_list = []\n",
    "    n_list = []\n",
    "    super_system_dynamics = contractions.compute_dynamics_with_field_multiple_systems(system=super_system, initial_field=initial_field, \n",
    "                                                                                    initial_state_list=initial_state_list, \n",
    "                                                                                    start_time=start_time,\n",
    "                                                                                    process_tensor_list = process_tensor\n",
    "                                                                                    )\n",
    "    for dynamics in super_system_dynamics.dynamics_list:\n",
    "        t_list.append(dynamics.times)\n",
    "        n_list.append(np.abs(dynamics.fields)**2)\n",
    "\n",
    "    # plot dynamics of first system in super-system \n",
    "    # (all should give the same plot in this case)\n",
    "    label = f\"Super-System {i}, main_omega_0 = {'{:.3f}'.format(omega_0_list[i])}\"\n",
    "    plt.plot(t_list[0], n_list[0], label=label)\n",
    "        \n",
    "    plt.xlabel(r'$t$ ($\\hbar/eV$)')\n",
    "    plt.ylabel(r'$n/N$')\n",
    "    plt.tight_layout()\n",
    "    plt.legend(loc='best') "
   ]
  },
  {
   "cell_type": "code",
   "execution_count": 13,
   "metadata": {},
   "outputs": [
    {
     "name": "stdout",
     "output_type": "stream",
     "text": [
      "--> Compute dynamics with field:\n",
      "100.0%  160 of  160 [########################################] 00:00:16\n",
      "Elapsed time: 16.6s\n",
      "--> Compute dynamics with field:\n",
      "100.0%  160 of  160 [########################################] 00:00:39\n",
      "Elapsed time: 39.1s\n",
      "--> Compute dynamics with field:\n",
      "100.0%  160 of  160 [########################################] 00:01:15\n",
      "Elapsed time: 75.3s\n",
      "--> Compute dynamics with field:\n",
      "100.0%  160 of  160 [########################################] 00:02:34\n",
      "Elapsed time: 154.2s\n"
     ]
    },
    {
     "data": {
      "image/png": "[encoded data removed]",
      "text/plain": [
       "<Figure size 432x288 with 1 Axes>"
      ]
     },
     "metadata": {
      "needs_background": "light"
     },
     "output_type": "display_data"
    }
   ],
   "source": [
    "num_systems_list = [2, 5, 10, 20]\n",
    "\n",
    "\n",
    "def plot_dynamics(omega_0_var, num_systems):\n",
    "    \"\"\"Plots dynamics for a super-system with a given omega_0_var\n",
    "    \"\"\"\n",
    "    initial_state_list = [initial_state for i in range(num_systems)]\n",
    "    fractions = [1/num_systems for i in range(num_systems)]\n",
    "\n",
    "    # define field equation of motion of super-system\n",
    "    def field_eom(t, states, field):\n",
    "        sx_exp_list = [np.matmul(sigma_minus, state).trace() for state in states]\n",
    "        sx_exp_weighted_sum = sum([fraction*sx_exp for fraction, sx_exp in zip(fractions, sx_exp_list)])\n",
    "        return -(1j*omega_c+kappa)*field - 0.5j*Omega*sx_exp_weighted_sum\n",
    "\n",
    "    # define field equation of motion for single system within super-system\n",
    "    def single_field_eom(t, state, a):\n",
    "            expect_val = np.matmul(sigma_minus, state).trace()\n",
    "            return -(1j * omega_c + kappa) * a - 0.5j * Omega * expect_val\n",
    "\n",
    "    # define domain of values over which inverse error fucntion will be taken\n",
    "    value_range = np.linspace(-0.9, 0.9, num=num_systems)\n",
    "\n",
    "    system_omega_0_values = omega_0_var*special.erfinv(value_range)\n",
    "    system_list = []\n",
    "\n",
    "    for omega_0_val in system_omega_0_values: # TODO: index from 1 to -2 to exclude endpoints (inifnity and -infinity) \n",
    "                                              # if list has more than 2 elements\n",
    "\n",
    "        # define mean field Hamiltonian \n",
    "        # (taking care to avoid late binding issue: https://docs.python-guide.org/writing/gotchas/#late-binding-closures)\n",
    "        def H_MF(t, a, omega_0_val=omega_0_val):\n",
    "            return 0.5 * omega_0_val * sigma_z +\\\n",
    "                0.5 * Omega * (a * sigma_plus + np.conj(a) * sigma_minus)\n",
    "\n",
    "        system = oqupy.TimeDependentSystemWithField(\n",
    "                    hamiltonian=H_MF,\n",
    "                    field_eom=single_field_eom,\n",
    "                    gammas=gammas,\n",
    "                    lindblad_operators=lindblad_operators)\n",
    "\n",
    "        system_list.append(system)\n",
    "    \n",
    "    super_system = oqupy.SuperTimeDependentSystemWithField(system_list, field_eom=field_eom)\n",
    "\n",
    "    # plot graphs\n",
    "    t_list = []\n",
    "    n_list = []\n",
    "    super_system_dynamics = contractions.compute_dynamics_with_field_multiple_systems(system=super_system, initial_field=initial_field, \n",
    "                                                                                    initial_state_list=initial_state_list, \n",
    "                                                                                    start_time=start_time,\n",
    "                                                                                    process_tensor_list = process_tensor\n",
    "                                                                                    )\n",
    "    for dynamics in super_system_dynamics.dynamics_list:\n",
    "        t_list.append(dynamics.times)\n",
    "        n_list.append(np.abs(dynamics.fields)**2)\n",
    "\n",
    "    # plot dynamics of first system in super-system \n",
    "    # (all should give the same plot in this case)\n",
    "    label = f\"num_systems = {num_systems}, main_omega_0 = {omega_0_var}\"\n",
    "    plt.plot(t_list[0], n_list[0], label=label)\n",
    "    plt.xlabel(r'$t$ ($\\hbar/eV$)')\n",
    "    plt.ylabel(r'$n/N$')\n",
    "    plt.tight_layout()\n",
    "    plt.legend(loc='best') \n",
    "\n",
    "for num_systems in num_systems_list:\n",
    "    plot_dynamics(omega_0_list[5], num_systems)\n",
    "\n",
    "\n"
   ]
  },
  {
   "cell_type": "code",
   "execution_count": 9,
   "metadata": {},
   "outputs": [
    {
     "data": {
      "text/plain": [
       "'# test with 4th super-system\\nsuper_system_dynamics = contractions.compute_dynamics_with_field_multiple_systems(super_system_list[4], initial_field=initial_field, \\n                                                                                    initial_state_list=initial_state_list, \\n                                                                                    start_time=start_time,\\n                                                                                    process_tensor_list = process_tensor\\n                                                                                    )\\nt_list = []\\nn_list = []\\nfor dynamics in super_system_dynamics.dynamics_list:\\n    t_list.append(dynamics.times)\\n    n_list.append(np.abs(dynamics.fields)**2)\\n    \\nfor i in range(len(n_list)):\\n    label = f\"System {i}\"\\n    plt.plot(t_list[i], n_list[i], label=label)\\n\\nplt.xlabel(r\\'$t$ (ps)\\')\\nplt.ylabel(r\\'$n/N$\\')\\nplt.tight_layout()\\n#plt.ylim((0.0,0.15))\\nplt.title(f\"Super-System 4, main_omega_0 = {\\'{:.2f}\\'.format(omega_0_list[4])}\")\\nplt.legend(loc=\\'lower right\\') \\nplt.savefig(f\"Super-System 4, main_omega_0 = {\\'{:.2f}\\'.format(omega_0_list[4])}.png\")'"
      ]
     },
     "execution_count": 9,
     "metadata": {},
     "output_type": "execute_result"
    }
   ],
   "source": [
    "\"\"\"# test with 4th super-system\n",
    "super_system_dynamics = contractions.compute_dynamics_with_field_multiple_systems(super_system_list[4], initial_field=initial_field, \n",
    "                                                                                    initial_state_list=initial_state_list, \n",
    "                                                                                    start_time=start_time,\n",
    "                                                                                    process_tensor_list = process_tensor\n",
    "                                                                                    )\n",
    "t_list = []\n",
    "n_list = []\n",
    "for dynamics in super_system_dynamics.dynamics_list:\n",
    "    t_list.append(dynamics.times)\n",
    "    n_list.append(np.abs(dynamics.fields)**2)\n",
    "    \n",
    "for i in range(len(n_list)):\n",
    "    label = f\"System {i}\"\n",
    "    plt.plot(t_list[i], n_list[i], label=label)\n",
    "\n",
    "plt.xlabel(r'$t$ (ps)')\n",
    "plt.ylabel(r'$n/N$')\n",
    "plt.tight_layout()\n",
    "#plt.ylim((0.0,0.15))\n",
    "plt.title(f\"Super-System 4, main_omega_0 = {'{:.2f}'.format(omega_0_list[4])}\")\n",
    "plt.legend(loc='lower right') \n",
    "plt.savefig(f\"Super-System 4, main_omega_0 = {'{:.2f}'.format(omega_0_list[4])}.png\")\"\"\""
   ]
  }
 ],
 "metadata": {
  "kernelspec": {
   "display_name": "Python 3.8.7 ('oqupy_env': venv)",
   "language": "python",
   "name": "python3"
  },
  "language_info": {
   "codemirror_mode": {
    "name": "ipython",
    "version": 3
   },
   "file_extension": ".py",
   "mimetype": "text/x-python",
   "name": "python",
   "nbconvert_exporter": "python",
   "pygments_lexer": "ipython3",
   "version": "3.8.7"
  },
  "orig_nbformat": 4,
  "vscode": {
   "interpreter": {
    "hash": "0fa9779bf51bb2438704d17095e3c20a9cfae197a1b59b001d50d35ca2021d94"
   }
  }
 },
 "nbformat": 4,
 "nbformat_minor": 2
}
