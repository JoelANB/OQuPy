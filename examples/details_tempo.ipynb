{
 "cells": [
  {
   "cell_type": "markdown",
   "metadata": {},
   "source": [
    "# Details on the tempo module"
   ]
  },
  {
   "cell_type": "markdown",
   "metadata": {},
   "source": [
    "**For a description on how to use the most important functionality, please checkout the tutorials and the API documentation.**\n",
    "\n",
    "The following example code shows how to use most of the functionality of the `tempo.tempo` module. This code is *suplementary* to the documentation and also includes functionality that is only relevant to the inner workings of the TimeEvolvingMPO package. Sections that show example code that is not part of the API is marked with three asterix `***`.\n",
    "\n",
    "**Contents:**\n",
    "\n",
    "* A: Simple example\n",
    "    * A1: tempo_compute()\n",
    "    * A2: TempoParameters class\n",
    "    * A3: Tempo class"
   ]
  },
  {
   "cell_type": "code",
   "execution_count": 1,
   "metadata": {},
   "outputs": [],
   "source": [
    "import sys\n",
    "sys.path.insert(0,'..')\n",
    "\n",
    "import numpy as np\n",
    "import matplotlib.pyplot as plt\n",
    "\n",
    "import time_evolving_mpo as tempo\n"
   ]
  },
  {
   "cell_type": "markdown",
   "metadata": {},
   "source": [
    "## A: Simple Example"
   ]
  },
  {
   "cell_type": "code",
   "execution_count": 2,
   "metadata": {},
   "outputs": [],
   "source": [
    "initial_state_A = tempo.operators.spin_dm(\"up\")"
   ]
  },
  {
   "cell_type": "markdown",
   "metadata": {},
   "source": [
    "Create a bath:"
   ]
  },
  {
   "cell_type": "code",
   "execution_count": 3,
   "metadata": {},
   "outputs": [],
   "source": [
    "coupling_operator_A = 0.5 * tempo.operators.pauli(\"z\")\n",
    "spectral_density_A = tempo.StandardSD(alpha=0.1, zeta=1.0, cutoff=5.0, cutoff_type=\"exponential\", name=\"ohmic\")\n",
    "temperature_A = 0.1\n",
    "bath_A = tempo.Bath(coupling_operator_A, spectral_density_A, temperature=temperature_A, name=\"phonon bath\")"
   ]
  },
  {
   "cell_type": "markdown",
   "metadata": {},
   "source": [
    "Create a system:"
   ]
  },
  {
   "cell_type": "code",
   "execution_count": 4,
   "metadata": {},
   "outputs": [],
   "source": [
    "system_A = tempo.System(0.5*tempo.operators.pauli(\"x\"),\n",
    "                        gammas=[0.1],\n",
    "                        lindblad_operators=[tempo.operators.pauli(\"z\")]\n",
    "                       )"
   ]
  },
  {
   "cell_type": "markdown",
   "metadata": {},
   "source": [
    "### A1: tempo_compute()"
   ]
  },
  {
   "cell_type": "code",
   "execution_count": 5,
   "metadata": {},
   "outputs": [
    {
     "name": "stdout",
     "output_type": "stream",
     "text": [
      "  4.0%    8 of  200 [#---------------------------------------] 00:00:00"
     ]
    },
    {
     "name": "stderr",
     "output_type": "stream",
     "text": [
      "../time_evolving_mpo/tempo.py:408: UserWarning: Estimating parameters for TEMPO calculation. No guarantie that resulting TEMPO calculation converges towards the correct dynamics! Please refere to the TEMPO documentation and check convergence by varying the parameters for TEMPO manually.\n",
      "  warnings.warn(GUESS_WARNING_MSG, UserWarning)\n",
      "../time_evolving_mpo/tempo.py:410: UserWarning: This is just a placeholder and not really implemented yet.\n",
      "  warnings.warn(PLACEHOLDER_MSG, UserWarning)\n"
     ]
    },
    {
     "name": "stdout",
     "output_type": "stream",
     "text": [
      "100.0%  200 of  200 [########################################] 00:00:06\n",
      "Elapsed time: 6.2s\n"
     ]
    }
   ],
   "source": [
    "dyn_A1 = tempo.tempo_compute(system_A,\n",
    "                             bath_A, \n",
    "                             initial_state_A, \n",
    "                             start_time=0.0, \n",
    "                             end_time=10.0, \n",
    "                             tollerance=0.00001)"
   ]
  },
  {
   "cell_type": "code",
   "execution_count": 6,
   "metadata": {},
   "outputs": [
    {
     "data": {
      "text/plain": [
       "Text(0, 0.5, '<$\\\\sigma_z$>')"
      ]
     },
     "execution_count": 6,
     "metadata": {},
     "output_type": "execute_result"
    },
    {
     "data": {
      "image/png": "[encoded data removed]",
      "text/plain": [
       "<Figure size 432x288 with 1 Axes>"
      ]
     },
     "metadata": {
      "needs_background": "light"
     },
     "output_type": "display_data"
    }
   ],
   "source": [
    "plt.plot(*dyn_A1.expectations(tempo.operators.pauli(\"z\"), real=True))\n",
    "plt.xlabel(r\"$t$\")\n",
    "plt.ylabel(r\"<$\\sigma_z$>\")"
   ]
  },
  {
   "cell_type": "markdown",
   "metadata": {},
   "source": [
    "### A2: TempoParameters class"
   ]
  },
  {
   "cell_type": "code",
   "execution_count": 7,
   "metadata": {},
   "outputs": [],
   "source": [
    "tempo_params_A2 = tempo.TempoParameters(dt=0.05, dkmax=30, epsrel=2**(-25))"
   ]
  },
  {
   "cell_type": "code",
   "execution_count": 8,
   "metadata": {},
   "outputs": [
    {
     "name": "stdout",
     "output_type": "stream",
     "text": [
      "----------------------------------------------\n",
      "TempoParameters object: __unnamed__\n",
      " __no_description__\n",
      "  dt            = 0.05 \n",
      "  dkmax         = 30 \n",
      "  epsrel        = 2.9802322387695312e-08 \n",
      "\n"
     ]
    }
   ],
   "source": [
    "print(tempo_params_A2)"
   ]
  },
  {
   "cell_type": "code",
   "execution_count": 9,
   "metadata": {},
   "outputs": [
    {
     "name": "stdout",
     "output_type": "stream",
     "text": [
      "100.0%  100 of  100 [########################################] 00:00:07\n",
      "Elapsed time: 7.9s\n"
     ]
    }
   ],
   "source": [
    "dyn_A2 = tempo.tempo_compute(system_A,\n",
    "                             bath_A,\n",
    "                             initial_state_A,\n",
    "                             start_time=0.0, \n",
    "                             end_time=5.0,\n",
    "                             parameters=tempo_params_A2)"
   ]
  },
  {
   "cell_type": "code",
   "execution_count": 10,
   "metadata": {},
   "outputs": [
    {
     "data": {
      "text/plain": [
       "Text(0, 0.5, '<$\\\\sigma_z$>')"
      ]
     },
     "execution_count": 10,
     "metadata": {},
     "output_type": "execute_result"
    },
    {
     "data": {
      "image/png": "[encoded data removed]",
      "text/plain": [
       "<Figure size 432x288 with 1 Axes>"
      ]
     },
     "metadata": {
      "needs_background": "light"
     },
     "output_type": "display_data"
    }
   ],
   "source": [
    "plt.plot(*dyn_A2.expectations(tempo.operators.pauli(\"z\"), real=True))\n",
    "plt.xlabel(r\"$t$\")\n",
    "plt.ylabel(r\"<$\\sigma_z$>\")"
   ]
  },
  {
   "cell_type": "markdown",
   "metadata": {},
   "source": [
    "### A3: Tempo class"
   ]
  },
  {
   "cell_type": "code",
   "execution_count": 11,
   "metadata": {},
   "outputs": [],
   "source": [
    "tempo_param_A3 = tempo.TempoParameters(dt=0.05, dkmax=20, epsrel=2**(-15))"
   ]
  },
  {
   "cell_type": "code",
   "execution_count": 12,
   "metadata": {},
   "outputs": [],
   "source": [
    "tempo_A = tempo.Tempo(system_A,\n",
    "                      bath_A,\n",
    "                      tempo_param_A3,\n",
    "                      initial_state_A,\n",
    "                      start_time=0.0)"
   ]
  },
  {
   "cell_type": "code",
   "execution_count": 13,
   "metadata": {},
   "outputs": [],
   "source": [
    "tempo_A.compute(end_time=4.0, progress_type='silent')"
   ]
  },
  {
   "cell_type": "code",
   "execution_count": 14,
   "metadata": {},
   "outputs": [
    {
     "name": "stdout",
     "output_type": "stream",
     "text": [
      "Step    81 of    82,  total time:       0.0s (+    0.03s)\n",
      "Step    82 of    82,  total time:       0.1s (+    0.04s)\n",
      "Step    83 of    82,  total time:       0.1s (+    0.04s)\n",
      "Total elapsed time:        0.1s\n"
     ]
    }
   ],
   "source": [
    "tempo_A.compute(end_time=4.111, progress_type='simple')"
   ]
  },
  {
   "cell_type": "code",
   "execution_count": 15,
   "metadata": {},
   "outputs": [
    {
     "name": "stdout",
     "output_type": "stream",
     "text": [
      "100.0%  200 of  200 [########################################] 00:00:04\n",
      "Elapsed time: 4.1s\n"
     ]
    }
   ],
   "source": [
    "tempo_A.compute(end_time=10.0, progress_type='bar')"
   ]
  },
  {
   "cell_type": "code",
   "execution_count": 16,
   "metadata": {},
   "outputs": [],
   "source": [
    "dyn_A3 = tempo_A.get_dynamics()"
   ]
  },
  {
   "cell_type": "code",
   "execution_count": 17,
   "metadata": {},
   "outputs": [
    {
     "data": {
      "text/plain": [
       "Text(0, 0.5, '<$\\\\sigma_z$>')"
      ]
     },
     "execution_count": 17,
     "metadata": {},
     "output_type": "execute_result"
    },
    {
     "data": {
      "image/png": "[encoded data removed]",
      "text/plain": [
       "<Figure size 432x288 with 1 Axes>"
      ]
     },
     "metadata": {
      "needs_background": "light"
     },
     "output_type": "display_data"
    }
   ],
   "source": [
    "plt.plot(*dyn_A3.expectations(tempo.operators.pauli(\"z\"), real=True))\n",
    "plt.xlabel(r\"$t$\")\n",
    "plt.ylabel(r\"<$\\sigma_z$>\")"
   ]
  },
  {
   "cell_type": "code",
   "execution_count": 18,
   "metadata": {},
   "outputs": [
    {
     "name": "stdout",
     "output_type": "stream",
     "text": [
      "----------------------------------------------\n",
      "Dynamics object: computed from '__unnamed__' tempo\n",
      " __no_description__\n",
      "  length        = 201 timesteps \n",
      "  min time      = 0.0 \n",
      "  max time      = 10.0 \n",
      "\n",
      "tempo_type                          = \t<class 'time_evolving_mpo.tempo.Tempo'>\n",
      "tempo_name                          = \t__unnamed__\n",
      "tempo_description                   = \t__no_description__\n",
      "tempo_description_dict              = \t{}\n",
      "parameters_type                     = \t<class 'time_evolving_mpo.tempo.TempoParameters'>\n",
      "parameters_name                     = \t__unnamed__\n",
      "parameters_description              = \t__no_description__\n",
      "parameters_description_dict         = \t{}\n",
      "system_type                         = \t<class 'time_evolving_mpo.system.System'>\n",
      "system_name                         = \t__unnamed__\n",
      "system_description                  = \t__no_description__\n",
      "system_description_dict             = \t{}\n",
      "bath_type                           = \t<class 'time_evolving_mpo.bath.Bath'>\n",
      "bath_name                           = \tphonon bath\n",
      "bath_description                    = \t__no_description__\n",
      "bath_description_dict               = \t{}\n",
      "spectral_density_type               = \t<class 'time_evolving_mpo.spectral_density.StandardSD'>\n",
      "spectral_density_name               = \tohmic\n",
      "spectral_density_description        = \t__no_description__\n",
      "spectral_density_description_dict   = \t{}\n",
      "backend_type                        = \t<class 'time_evolving_mpo.backends.tensor_network.tensor_network_backend.TensorNetworkBackend'>\n",
      "initial_state                       = \t[[1.+0.j 0.+0.j]\n",
      " [0.+0.j 0.+0.j]]\n",
      "dt                                  = \t0.05\n",
      "dkmax                               = \t20\n",
      "epsrel                              = \t3.0517578125e-05\n"
     ]
    }
   ],
   "source": [
    "print(dyn_A3)\n",
    "for key, value in dyn_A3.description_dict.items():\n",
    "    print(\"{:35s} = \\t{}\".format(key,value))"
   ]
  },
  {
   "cell_type": "code",
   "execution_count": null,
   "metadata": {},
   "outputs": [],
   "source": []
  }
 ],
 "metadata": {
  "kernelspec": {
   "display_name": "Python 3",
   "language": "python",
   "name": "python3"
  },
  "language_info": {
   "codemirror_mode": {
    "name": "ipython",
    "version": 3
   },
   "file_extension": ".py",
   "mimetype": "text/x-python",
   "name": "python",
   "nbconvert_exporter": "python",
   "pygments_lexer": "ipython3",
   "version": "3.7.4"
  }
 },
 "nbformat": 4,
 "nbformat_minor": 2
}
