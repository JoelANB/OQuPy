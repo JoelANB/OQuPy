{
 "cells": [
  {
   "cell_type": "markdown",
   "metadata": {},
   "source": [
    "This notebook uses a `SuperTimeDependentSystemWithField` to investigate the dynamics of systems within a super-system. In the following example, individual systems are given different process tensors (by using different coupling strengths). One system can take multiple (or just one) process tensor(s). Alternatively, though  not shown in this example, all systems in the same super-system can take the same process tensor. \n",
    "\n",
    "[See the disordered mean field example for an example of multiple systems within a super-system taking a single process tensor.] "
   ]
  },
  {
   "cell_type": "code",
   "execution_count": 1,
   "metadata": {},
   "outputs": [],
   "source": [
    "import sys\n",
    "sys.path.insert(0,'..')\n",
    "import oqupy\n",
    "import numpy as np\n",
    "import matplotlib.pyplot as plt\n",
    "from oqupy import contractions"
   ]
  },
  {
   "cell_type": "code",
   "execution_count": 2,
   "metadata": {},
   "outputs": [
    {
     "data": {
      "text/plain": [
       "'0.3.1'"
      ]
     },
     "execution_count": 2,
     "metadata": {},
     "output_type": "execute_result"
    }
   ],
   "source": [
    "oqupy.__version__"
   ]
  },
  {
   "cell_type": "code",
   "execution_count": 3,
   "metadata": {},
   "outputs": [],
   "source": [
    "sigma_z = oqupy.operators.sigma(\"z\")\n",
    "sigma_plus = oqupy.operators.sigma(\"+\")\n",
    "sigma_minus = oqupy.operators.sigma(\"-\")"
   ]
  },
  {
   "cell_type": "code",
   "execution_count": 4,
   "metadata": {},
   "outputs": [],
   "source": [
    "alpha_one = 0.1 \n",
    "alpha_two = 0.9 \n",
    "alpha_three = 0.25\n",
    "nu_c = 227.9\n",
    "T = 39.3\n",
    "omega_0 = 0.0\n",
    "omega_c = -30.4\n",
    "Omega = 303.9\n",
    "\n",
    "kappa = 15.2\n",
    "Gamma_down = 30.4\n",
    "Gamma_up = 0.8 * Gamma_down\n"
   ]
  },
  {
   "cell_type": "code",
   "execution_count": 5,
   "metadata": {},
   "outputs": [],
   "source": [
    "def H_MF(t, a):\n",
    "    return 0.5 * omega_0 * sigma_z +\\\n",
    "        0.5 * Omega * (a * sigma_plus + np.conj(a) * sigma_minus)\n",
    "\n",
    "fractions = [0.5, 0.5]\n",
    "def field_eom(t, states, field):\n",
    "    sx_exp_list = [np.matmul(sigma_minus, state).trace() for state in states]\n",
    "    sx_exp_weighted_sum = sum([fraction*sx_exp for fraction, sx_exp in zip(fractions, sx_exp_list)])\n",
    "    return -(1j*omega_c+kappa)*field - 0.5j*Omega*sx_exp_weighted_sum"
   ]
  },
  {
   "cell_type": "code",
   "execution_count": 6,
   "metadata": {},
   "outputs": [],
   "source": [
    "gammas = [ lambda t: Gamma_down, lambda t: Gamma_up]\n",
    "lindblad_operators = [ lambda t: sigma_minus, lambda t: sigma_plus]"
   ]
  },
  {
   "cell_type": "code",
   "execution_count": 7,
   "metadata": {},
   "outputs": [],
   "source": [
    "def single_field_eom(t, state, a):\n",
    "    expect_val = np.matmul(sigma_minus, state).trace()\n",
    "    return -(1j * omega_c + kappa) * a - 0.5j * Omega * expect_val\n",
    "\n",
    "system_one = oqupy.TimeDependentSystemWithField(\n",
    "        H_MF,\n",
    "        single_field_eom,\n",
    "        gammas=gammas,\n",
    "        lindblad_operators=lindblad_operators)\n",
    "\n",
    "system_two = oqupy.TimeDependentSystemWithField(\n",
    "        H_MF,\n",
    "        single_field_eom,\n",
    "        gammas=gammas,\n",
    "        lindblad_operators=lindblad_operators)"
   ]
  },
  {
   "cell_type": "code",
   "execution_count": 8,
   "metadata": {},
   "outputs": [],
   "source": [
    "correlations_one = oqupy.PowerLawSD(alpha=alpha_one,\n",
    "                                zeta=1,\n",
    "                                cutoff=nu_c,\n",
    "                                cutoff_type='gaussian',\n",
    "                                temperature=T)\n",
    "correlations_two = oqupy.PowerLawSD(alpha=alpha_two,\n",
    "                                zeta=1,\n",
    "                                cutoff=nu_c,\n",
    "                                cutoff_type='gaussian',\n",
    "                                temperature=T)\n",
    "\n",
    "correlations_three = oqupy.PowerLawSD(alpha=alpha_three,\n",
    "                                zeta=1,\n",
    "                                cutoff=nu_c,\n",
    "                                cutoff_type='gaussian',\n",
    "                                temperature=T)\n",
    "\n",
    "bath_one = oqupy.Bath(0.5 * sigma_z, correlations_one)\n",
    "bath_two = oqupy.Bath(0.5 * sigma_z, correlations_two)\n",
    "bath_three = oqupy.Bath(0.5 * sigma_z, correlations_three)"
   ]
  },
  {
   "cell_type": "code",
   "execution_count": 9,
   "metadata": {},
   "outputs": [],
   "source": [
    "initial_field = np.sqrt(0.05)               # Note n_0 = <a^dagger a>(0) = 0.05\n",
    "initial_state_one = np.array([[0,0],[0,1]]) # spin down\n",
    "initial_state_two = np.array([[0,0],[0,1]]) # spin down"
   ]
  },
  {
   "cell_type": "code",
   "execution_count": 10,
   "metadata": {},
   "outputs": [
    {
     "name": "stdout",
     "output_type": "stream",
     "text": [
      "--> PT-TEMPO computation:\n",
      "100.0%  406 of  406 [########################################] 00:00:09\n",
      "Elapsed time: 9.8s\n",
      "--> PT-TEMPO computation:\n",
      "100.0%  406 of  406 [########################################] 00:00:25\n",
      "Elapsed time: 25.4s\n",
      "--> PT-TEMPO computation:\n",
      "100.0%  406 of  406 [########################################] 00:00:11\n",
      "Elapsed time: 11.7s\n"
     ]
    }
   ],
   "source": [
    "tempo_parameters = oqupy.TempoParameters(dt=3.2e-3, dkmax=20, epsrel=10**(-5))\n",
    "start_time = 0.0\n",
    "end_time = 1.3\n",
    "\n",
    "process_tensor_one = oqupy.pt_tempo_compute(bath=bath_one,\n",
    "                                        start_time=start_time,\n",
    "                                        end_time=end_time,\n",
    "                                        parameters=tempo_parameters)\n",
    "\n",
    "process_tensor_two = oqupy.pt_tempo_compute(bath=bath_two,\n",
    "                                        start_time=0.0,\n",
    "                                        end_time=end_time,\n",
    "                                        parameters=tempo_parameters)\n",
    "\n",
    "process_tensor_three = oqupy.pt_tempo_compute(bath=bath_three,\n",
    "                                        start_time=0.0,\n",
    "                                        end_time=end_time,\n",
    "                                        parameters=tempo_parameters)"
   ]
  },
  {
   "cell_type": "code",
   "execution_count": 11,
   "metadata": {},
   "outputs": [
    {
     "name": "stdout",
     "output_type": "stream",
     "text": [
      "--> Compute dynamics with field:\n",
      "100.0%  406 of  406 [########################################] 00:00:42\n",
      "Elapsed time: 42.7s\n"
     ]
    }
   ],
   "source": [
    "initial_state_list = [initial_state_one , initial_state_two]\n",
    "control_list = [oqupy.Control(system_one.dimension), oqupy.Control(system_two.dimension)]\n",
    "super_system = oqupy.SuperTimeDependentSystemWithField([system_one, system_two], field_eom=field_eom)\n",
    "\n",
    "super_system_dynamics_with_field = contractions.compute_dynamics_with_field_multiple_systems(super_system, initial_field=initial_field, \n",
    "                                                                                        initial_state_list=initial_state_list, \n",
    "                                                                                        start_time=start_time,\n",
    "                                                                                        process_tensor_list = [[process_tensor_one, process_tensor_three], process_tensor_two]\n",
    "                                                                                        )"
   ]
  },
  {
   "cell_type": "code",
   "execution_count": 12,
   "metadata": {},
   "outputs": [],
   "source": [
    "t_list = []\n",
    "n_list = []\n",
    "tsz_list = []\n",
    "sz_list = []\n",
    "\n",
    "for dynamics in super_system_dynamics_with_field.dynamics_list:\n",
    "    t_list.append(dynamics.times)\n",
    "    n_list.append(np.abs(dynamics.fields)**2)\n",
    "    t, s_z = dynamics.expectations(0.5*sigma_z, real=True)\n",
    "    tsz_list.append(t)\n",
    "    sz_list.append(s_z)"
   ]
  },
  {
   "cell_type": "markdown",
   "metadata": {},
   "source": [
    "We investigate the spin expectation over time of the systems in the super-system."
   ]
  },
  {
   "cell_type": "code",
   "execution_count": 13,
   "metadata": {},
   "outputs": [
    {
     "data": {
      "text/plain": [
       "<matplotlib.legend.Legend at 0x23808223d60>"
      ]
     },
     "execution_count": 13,
     "metadata": {},
     "output_type": "execute_result"
    },
    {
     "data": {
      "image/png": "[encoded data removed]",
      "text/plain": [
       "<Figure size 432x288 with 1 Axes>"
      ]
     },
     "metadata": {
      "needs_background": "light"
     },
     "output_type": "display_data"
    }
   ],
   "source": [
    "alphas = [alpha_one, alpha_two]\n",
    "for i in range(len(tsz_list)):\n",
    "    if i == 0:\n",
    "        label = f\"System {i}, alpha = {alphas[i]}, {alpha_three}\"\n",
    "    else:\n",
    "        label = f\"System {i}, alpha = {alphas[i]}\"\n",
    "    plt.plot(tsz_list[i], sz_list[i], label=label)\n",
    "plt.xlabel(r'$t\\,\\Omega$')\n",
    "plt.ylabel(r'$<S_z>$')\n",
    "plt.legend(loc='best')"
   ]
  },
  {
   "cell_type": "markdown",
   "metadata": {},
   "source": [
    "Next, we investigate the changes in scaled photon number over time for both systems in the super-system. It is expected that both systems in the super-system should produce the same plot. "
   ]
  },
  {
   "cell_type": "code",
   "execution_count": 14,
   "metadata": {},
   "outputs": [
    {
     "data": {
      "text/plain": [
       "<matplotlib.legend.Legend at 0x238173044c0>"
      ]
     },
     "execution_count": 14,
     "metadata": {},
     "output_type": "execute_result"
    },
    {
     "data": {
      "image/png": "[encoded data removed]",
      "text/plain": [
       "<Figure size 432x288 with 1 Axes>"
      ]
     },
     "metadata": {
      "needs_background": "light"
     },
     "output_type": "display_data"
    }
   ],
   "source": [
    "for i in range(len(n_list)):\n",
    "    if i == 0:\n",
    "        label = f\"System {i}, alpha = {alphas[i]}, {alpha_three}\"\n",
    "    else:\n",
    "        label = f\"System {i}, alpha = {alphas[i]}\"\n",
    "    plt.plot(t_list[i], n_list[i], label=label)\n",
    "    \n",
    "plt.xlabel(r'$t$ ($\\hbar/eV$)')\n",
    "plt.ylabel(r'$n/N$')\n",
    "plt.legend(loc='best') "
   ]
  }
 ],
 "metadata": {
  "kernelspec": {
   "display_name": "Python 3.8.7 ('oqupy_env': venv)",
   "language": "python",
   "name": "python3"
  },
  "language_info": {
   "codemirror_mode": {
    "name": "ipython",
    "version": 3
   },
   "file_extension": ".py",
   "mimetype": "text/x-python",
   "name": "python",
   "nbconvert_exporter": "python",
   "pygments_lexer": "ipython3",
   "version": "3.8.7"
  },
  "orig_nbformat": 4,
  "vscode": {
   "interpreter": {
    "hash": "0fa9779bf51bb2438704d17095e3c20a9cfae197a1b59b001d50d35ca2021d94"
   }
  }
 },
 "nbformat": 4,
 "nbformat_minor": 2
}
