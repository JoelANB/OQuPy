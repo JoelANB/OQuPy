{
 "cells": [
  {
   "cell_type": "code",
   "execution_count": 1,
   "metadata": {},
   "outputs": [],
   "source": [
    "import sys\n",
    "sys.path.insert(0,'..')\n",
    "import oqupy\n",
    "import numpy as np\n",
    "import matplotlib.pyplot as plt\n",
    "from oqupy import contractions"
   ]
  },
  {
   "cell_type": "code",
   "execution_count": 2,
   "metadata": {},
   "outputs": [
    {
     "data": {
      "text/plain": [
       "'0.3.0'"
      ]
     },
     "execution_count": 2,
     "metadata": {},
     "output_type": "execute_result"
    }
   ],
   "source": [
    "oqupy.__version__"
   ]
  },
  {
   "cell_type": "code",
   "execution_count": 3,
   "metadata": {},
   "outputs": [],
   "source": [
    "sigma_z = oqupy.operators.sigma(\"z\")\n",
    "sigma_plus = oqupy.operators.sigma(\"+\")\n",
    "sigma_minus = oqupy.operators.sigma(\"-\")"
   ]
  },
  {
   "cell_type": "code",
   "execution_count": 4,
   "metadata": {},
   "outputs": [],
   "source": [
    "alpha_one = 0.1 #0.25 # change here to 0.1 maybe?\n",
    "alpha_two = 0.9 \n",
    "alpha_three = 0.25\n",
    "nu_c = 227.9\n",
    "T = 39.3\n",
    "omega_0 = 0.0\n",
    "omega_c = -30.4\n",
    "Omega = 303.9\n",
    "\n",
    "kappa = 15.2\n",
    "Gamma_down = 30.4\n",
    "Gamma_up = 0.8 * Gamma_down\n"
   ]
  },
  {
   "cell_type": "code",
   "execution_count": 5,
   "metadata": {},
   "outputs": [],
   "source": [
    "def H_MF(t, a):\n",
    "    return 0.5 * omega_0 * sigma_z +\\\n",
    "        0.5 * Omega * (a * sigma_plus + np.conj(a) * sigma_minus)\n",
    "\n",
    "# no-field functions and variables\n",
    "def gaussian_shape(t, area = 1.0, tau = 1.0, t_0 = 0.0):\n",
    "    return area/(tau*np.sqrt(np.pi)) * np.exp(-(t-t_0)**2/(tau**2))\n",
    "detuning = lambda t: 0.0 * t\n",
    "\n",
    "def hamiltonian_no_field(t):\n",
    "    return detuning(t)/2.0 * sigma_z \\\n",
    "           + gaussian_shape(t, area = np.pi/2.0, tau = 0.245)/2.0 * sigma_z\n",
    "###\n",
    "\n",
    "fractions = [0.5, 0.5] #[1] #[0.5, 0.5]\n",
    "def field_eom(t, states, field):\n",
    "    sx_exp_list = [np.matmul(sigma_minus, state).trace() for state in states]\n",
    "    sx_exp_weighted_sum = sum([fraction*sx_exp for fraction, sx_exp in zip(fractions, sx_exp_list)])\n",
    "    return -(1j*omega_c+kappa)*field - 0.5j*Omega*sx_exp_weighted_sum"
   ]
  },
  {
   "cell_type": "code",
   "execution_count": 6,
   "metadata": {},
   "outputs": [
    {
     "name": "stdout",
     "output_type": "stream",
     "text": [
      "H_eval = [[  0.    +0.j   151.95+151.95j]\n",
      " [151.95-151.95j   0.    +0.j  ]]\n",
      "EOM_eval = (258.29999999999995+15.2j)\n"
     ]
    }
   ],
   "source": [
    "test_field = 1.0+1.0j\n",
    "test_time = 0.01\n",
    "test_state = np.array([[0.0,2j],[-2j,1.0]])\n",
    "print('H_eval =', H_MF(test_time, test_field))\n",
    "print('EOM_eval =', field_eom(test_time, [test_state, test_state], test_field))"
   ]
  },
  {
   "cell_type": "code",
   "execution_count": 7,
   "metadata": {},
   "outputs": [],
   "source": [
    "gammas = [ lambda t: Gamma_down, lambda t: Gamma_up]\n",
    "lindblad_operators = [ lambda t: sigma_minus, lambda t: sigma_plus]"
   ]
  },
  {
   "cell_type": "code",
   "execution_count": 8,
   "metadata": {},
   "outputs": [],
   "source": [
    "def single_field_eom(t, state, a):\n",
    "    expect_val = np.matmul(sigma_minus, state).trace()\n",
    "    return -(1j * omega_c + kappa) * a - 0.5j * Omega * expect_val\n",
    "\n",
    "system_one = oqupy.TimeDependentSystemWithField(\n",
    "        H_MF,\n",
    "        single_field_eom,\n",
    "        gammas=gammas,\n",
    "        lindblad_operators=lindblad_operators)\n",
    "\n",
    "system_two = oqupy.TimeDependentSystemWithField(\n",
    "        H_MF,\n",
    "        single_field_eom,\n",
    "        gammas=gammas,\n",
    "        lindblad_operators=lindblad_operators)\n",
    "\n",
    "system_no_field_one = oqupy.TimeDependentSystem(hamiltonian_no_field, gammas=gammas,\n",
    "        lindblad_operators=lindblad_operators)\n",
    "system_no_field_two = oqupy.TimeDependentSystem(hamiltonian_no_field, gammas=gammas,\n",
    "        lindblad_operators=lindblad_operators)"
   ]
  },
  {
   "cell_type": "code",
   "execution_count": 9,
   "metadata": {},
   "outputs": [],
   "source": [
    "correlations_one = oqupy.PowerLawSD(alpha=alpha_one,\n",
    "                                zeta=1,\n",
    "                                cutoff=nu_c,\n",
    "                                cutoff_type='gaussian',\n",
    "                                temperature=T)\n",
    "correlations_two = oqupy.PowerLawSD(alpha=alpha_two,\n",
    "                                zeta=1,\n",
    "                                cutoff=nu_c,\n",
    "                                cutoff_type='gaussian',\n",
    "                                temperature=T)\n",
    "\n",
    "correlations_three = oqupy.PowerLawSD(alpha=alpha_three,\n",
    "                                zeta=1,\n",
    "                                cutoff=nu_c,\n",
    "                                cutoff_type='gaussian',\n",
    "                                temperature=T)\n",
    "\n",
    "bath_one = oqupy.Bath(0.5 * sigma_z, correlations_one)\n",
    "bath_two = oqupy.Bath(0.5 * sigma_z, correlations_two)\n",
    "bath_three = oqupy.Bath(0.5 * sigma_z, correlations_three)"
   ]
  },
  {
   "cell_type": "code",
   "execution_count": 10,
   "metadata": {},
   "outputs": [],
   "source": [
    "initial_field = np.sqrt(0.05)               # Note n_0 = <a^dagger a>(0) = 0.05\n",
    "initial_state_one = np.array([[0,0],[0,1]]) # spin down\n",
    "initial_state_two = np.array([[0,0],[0,1]]) # spin down"
   ]
  },
  {
   "cell_type": "code",
   "execution_count": 11,
   "metadata": {},
   "outputs": [
    {
     "name": "stdout",
     "output_type": "stream",
     "text": [
      "--> PT-TEMPO computation:\n",
      "100.0%  406 of  406 [########################################] 00:00:09\n",
      "Elapsed time: 9.2s\n",
      "--> PT-TEMPO computation:\n",
      "100.0%  406 of  406 [########################################] 00:00:25\n",
      "Elapsed time: 25.6s\n",
      "--> PT-TEMPO computation:\n",
      "100.0%  406 of  406 [########################################] 00:00:11\n",
      "Elapsed time: 11.9s\n"
     ]
    }
   ],
   "source": [
    "tempo_parameters = oqupy.TempoParameters(dt=3.2e-3, dkmax=20, epsrel=10**(-5))\n",
    "start_time = 0.0\n",
    "end_time = 1.3\n",
    "\n",
    "process_tensor_one = oqupy.pt_tempo_compute(bath=bath_one,\n",
    "                                        start_time=start_time,\n",
    "                                        end_time=end_time,\n",
    "                                        parameters=tempo_parameters)\n",
    "\n",
    "process_tensor_two = oqupy.pt_tempo_compute(bath=bath_two,\n",
    "                                        start_time=0.0,\n",
    "                                        end_time=end_time,\n",
    "                                        parameters=tempo_parameters)\n",
    "\n",
    "process_tensor_three = oqupy.pt_tempo_compute(bath=bath_three,\n",
    "                                        start_time=0.0,\n",
    "                                        end_time=end_time,\n",
    "                                        parameters=tempo_parameters)"
   ]
  },
  {
   "cell_type": "code",
   "execution_count": 12,
   "metadata": {},
   "outputs": [
    {
     "name": "stdout",
     "output_type": "stream",
     "text": [
      "[[<oqupy.process_tensor.SimpleProcessTensor object at 0x000001F050A3A5B0>, <oqupy.process_tensor.SimpleProcessTensor object at 0x000001F053D41430>], [<oqupy.process_tensor.SimpleProcessTensor object at 0x000001F050A3A190>]]\n",
      "False\n",
      "False\n",
      "--> Compute dynamics:\n",
      "100.0%  406 of  406 [########################################] 00:00:11\n",
      "Elapsed time: 11.3s\n"
     ]
    }
   ],
   "source": [
    "initial_state_list = [initial_state_one , initial_state_two]\n",
    "control_list = [oqupy.Control(system_one.dimension), oqupy.Control(system_two.dimension)]\n",
    "# super_system = oqupy.SuperTimeDependentSystemWithField([system_one, system_two], field_eom=field_eom)\n",
    "super_system = oqupy.SuperTimeDependentSystem([system_no_field_one, system_no_field_two])\n",
    "# super_system = oqupy.SuperTimeDependentSystemWithField([system_one], field_eom=field_eom)\n",
    "\"\"\"dynamics_with_field = oqupy.compute_dynamics_with_field(\n",
    "        process_tensor=process_tensor,\n",
    "        system=system_one,\n",
    "        initial_state=initial_state_one,\n",
    "        initial_field=initial_field,\n",
    "        start_time=0.0)\"\"\"\n",
    "\"\"\"super_dynamics_with_field = contractions.compute_dynamics_with_field_multiple_systems(super_system, initial_field=initial_field, \n",
    "                                                                                        initial_state_list=initial_state_list, \n",
    "                                                                                        start_time=start_time,\n",
    "                                                                                        process_tensor_list = [[process_tensor_one, process_tensor_three], process_tensor_two] # made this a list to prevent object duplication\n",
    "                                                                                        )\"\"\"\n",
    "super_system_dynamics = contractions.compute_dynamics_multiple_systems(super_system, initial_state_list=initial_state_list, \n",
    "                                                                                        start_time=start_time,\n",
    "                                                                                        process_tensor_list = [[process_tensor_one, process_tensor_three], process_tensor_two] # made this a list to prevent object duplication\n",
    "                                                                                        )\n",
    "dynamics_list = super_system_dynamics.dynamics_list"
   ]
  },
  {
   "cell_type": "code",
   "execution_count": 20,
   "metadata": {},
   "outputs": [],
   "source": [
    "t_list = []\n",
    "n_list = []\n",
    "tsz_list = []\n",
    "sz_list = []\n",
    "\n",
    "for dynamics in dynamics_list:\n",
    "    #t_list.append(dynamics.times)\n",
    "    #n_list.append(np.abs(dynamics.fields)**2)\n",
    "    t, s_z = dynamics.expectations(0.5*sigma_z, real=True)\n",
    "    tsz_list.append(t)\n",
    "    sz_list.append(s_z)"
   ]
  },
  {
   "cell_type": "code",
   "execution_count": 21,
   "metadata": {},
   "outputs": [
    {
     "data": {
      "text/plain": [
       "<matplotlib.legend.Legend at 0x1f053dbbe50>"
      ]
     },
     "execution_count": 21,
     "metadata": {},
     "output_type": "execute_result"
    },
    {
     "data": {
      "image/png": "[encoded data removed]",
      "text/plain": [
       "<Figure size 432x288 with 1 Axes>"
      ]
     },
     "metadata": {
      "needs_background": "light"
     },
     "output_type": "display_data"
    }
   ],
   "source": [
    "alphas = [alpha_one, alpha_two]\n",
    "for i in range(len(tsz_list)):# for i in range(len(n_list)):\n",
    "    if i == 0:\n",
    "        label = f\"System {i}, alpha = {alphas[i]}, {alpha_three}\"\n",
    "    else:\n",
    "        label = f\"System {i}, alpha = {alphas[i]}\"\n",
    "    #plt.plot(t_list[i], n_list[i], label=label)\n",
    "    plt.plot(tsz_list[i], sz_list[i], label=label)\n",
    "plt.xlabel(r'$t\\,\\Omega$')\n",
    "plt.ylabel(r'$<S_z>$')\n",
    "#plt.xlabel(r'$t$ (ps)')\n",
    "#plt.ylabel(r'$n/N$')\n",
    "#plt.ylim((0.0,0.15))\n",
    "plt.legend(loc='lower right') # upper left"
   ]
  },
  {
   "cell_type": "code",
   "execution_count": 26,
   "metadata": {},
   "outputs": [
    {
     "data": {
      "text/plain": [
       "Text(0, 0.5, '$<\\\\sigma_z>$')"
      ]
     },
     "execution_count": 26,
     "metadata": {},
     "output_type": "execute_result"
    },
    {
     "data": {
      "image/png": "[encoded data removed]",
      "text/plain": [
       "<Figure size 432x288 with 1 Axes>"
      ]
     },
     "metadata": {
      "needs_background": "light"
     },
     "output_type": "display_data"
    }
   ],
   "source": [
    "dynamics = oqupy.compute_dynamics(\n",
    "        process_tensor=process_tensor_two,\n",
    "        system=system_no_field_two,\n",
    "        initial_state=initial_state_two,\n",
    "        start_time=start_time,\n",
    "        progress_type=\"silent\")\n",
    "t, s_z = dynamics.expectations(0.5*sigma_z, real=True)\n",
    "plt.plot(t, s_z)\n",
    "plt.xlabel(r'$t/$ps')\n",
    "plt.ylabel(r'$<\\sigma_z>$')"
   ]
  }
 ],
 "metadata": {
  "kernelspec": {
   "display_name": "Python 3.8.7 ('oqupy_env': venv)",
   "language": "python",
   "name": "python3"
  },
  "language_info": {
   "codemirror_mode": {
    "name": "ipython",
    "version": 3
   },
   "file_extension": ".py",
   "mimetype": "text/x-python",
   "name": "python",
   "nbconvert_exporter": "python",
   "pygments_lexer": "ipython3",
   "version": "3.8.7"
  },
  "orig_nbformat": 4,
  "vscode": {
   "interpreter": {
    "hash": "0fa9779bf51bb2438704d17095e3c20a9cfae197a1b59b001d50d35ca2021d94"
   }
  }
 },
 "nbformat": 4,
 "nbformat_minor": 2
}
