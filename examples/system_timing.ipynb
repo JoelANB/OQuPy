{
 "cells": [
  {
   "cell_type": "code",
   "execution_count": 2,
   "metadata": {},
   "outputs": [
    {
     "name": "stdout",
     "output_type": "stream",
     "text": [
      "--> PT-TEMPO computation:\n",
      "100.0%  406 of  406 [########################################] 00:00:09\n",
      "Elapsed time: 9.8s\n"
     ]
    }
   ],
   "source": [
    "import sys\n",
    "sys.path.insert(0,'..')\n",
    "import oqupy\n",
    "import numpy as np\n",
    "from oqupy import contractions\n",
    "import time\n",
    "import csv\n",
    "\n",
    "sigma_z = oqupy.operators.sigma(\"z\")\n",
    "sigma_plus = oqupy.operators.sigma(\"+\")\n",
    "sigma_minus = oqupy.operators.sigma(\"-\")\n",
    "\n",
    "alpha = 0.25\n",
    "nu_c = 227.9\n",
    "T = 39.3\n",
    "omega_0 = 0.0\n",
    "omega_c = -30.4\n",
    "Omega = 303.9\n",
    "\n",
    "kappa = 15.2\n",
    "Gamma_down = 30.4\n",
    "Gamma_up = 0.8 * Gamma_down\n",
    "\n",
    "gammas = [ lambda t: Gamma_down, lambda t: Gamma_up]\n",
    "lindblad_operators = [ lambda t: sigma_minus, lambda t: sigma_plus]\n",
    "\n",
    "def H_MF(t, a):\n",
    "    return 0.5 * omega_0 * sigma_z +\\\n",
    "        0.5 * Omega * (a * sigma_plus + np.conj(a) * sigma_minus)\n",
    "        \n",
    "def single_field_eom(t, state, a):\n",
    "    expect_val = np.matmul(sigma_minus, state).trace()\n",
    "    return -(1j * omega_c + kappa) * a - 0.5j * Omega * expect_val\n",
    "\n",
    "correlations = oqupy.PowerLawSD(alpha=alpha,\n",
    "                                zeta=1,\n",
    "                                cutoff=nu_c,\n",
    "                                cutoff_type='gaussian',\n",
    "                                temperature=T)\n",
    "\n",
    "bath = oqupy.Bath(0.5 * sigma_z, correlations)\n",
    "initial_field = np.sqrt(0.05)               # Note n_0 = <a^dagger a>(0) = 0.05\n",
    "initial_state = np.array([[0,0],[0,1]])     # spin down\n",
    "\n",
    "tempo_parameters = oqupy.TempoParameters(dt=3.2e-3, dkmax=20, epsrel=10**(-5))\n",
    "start_time = 0.0\n",
    "end_time = 1.3\n",
    "\n",
    "process_tensor = oqupy.pt_tempo_compute(bath=bath,\n",
    "                                        start_time=start_time,\n",
    "                                        end_time=end_time,\n",
    "                                        parameters=tempo_parameters)"
   ]
  },
  {
   "cell_type": "code",
   "execution_count": 8,
   "metadata": {},
   "outputs": [],
   "source": [
    "def create_csv(filename, num_of_systems, time_taken, overwrite = True):\n",
    "    \"\"\" This function creates a CSV file with 2 columns: one for the numebr of quantum systems,\n",
    "    and the other for the time taken to compute the dynamics of the super-system.\n",
    "\n",
    "    Arguments:\n",
    "    filename -- name of CSV file\n",
    "    num_of_systems -- number of quantum systems in a super-system\n",
    "    time_taken -- time taken to compute dynamics of super-system\n",
    "    overwrite -- boolean specifying whether the csv should overwrite a pre-existing file (default True)\n",
    "    \"\"\"\n",
    "    write_mode = \"wt\"       # default mode of writing to csv (will cause overwriting of pre-existing file)\n",
    "    \n",
    "    if overwrite == False:\n",
    "        write_mode = \"at\"   # this mode adds text to the end of a pre-existing file\n",
    "        \n",
    "    with open(filename, write_mode, newline = \"\", encoding = \"utf-8\") as runtime_data:\n",
    "        csv_writer = csv.DictWriter(runtime_data, [\"Number of Systems\", \"Runtime\"])\n",
    "\n",
    "        # add headers to columns of the CSV once a file is created or overwritten\n",
    "        if overwrite == True:\n",
    "            csv_writer.writeheader() \n",
    "\n",
    "        csv_writer.writerow({\"Number of Systems\":num_of_systems, \"Runtime\":time_taken})\n",
    "    if overwrite == True:\n",
    "        print(\"CSV\", filename, \"created successfully\")\n",
    "    else:\n",
    "        print(\"CSV\", filename, \"updated successfully\")\n",
    "\n",
    "def compute_n_systems(n, filename, overwrite = False):\n",
    "\n",
    "    if n == 1:\n",
    "        overwrite = True\n",
    "\n",
    "    fractions = [1/n for i in range(n)]\n",
    "    def field_eom(t, states, field):\n",
    "        sx_exp_list = [np.matmul(sigma_minus, state).trace() for state in states]\n",
    "        sx_exp_weighted_sum = sum([fraction*sx_exp for fraction, sx_exp in zip(fractions, sx_exp_list)])\n",
    "        return -(1j*omega_c+kappa)*field - 0.5j*Omega*sx_exp_weighted_sum\n",
    "    initial_state_list = [initial_state for i in range(n)]\n",
    "    \n",
    "    system = oqupy.TimeDependentSystemWithField(\n",
    "        H_MF,\n",
    "        single_field_eom,\n",
    "        gammas=gammas,\n",
    "        lindblad_operators=lindblad_operators)\n",
    "    system_list = [system for i in range(n)]\n",
    "    super_system = oqupy.SuperTimeDependentSystemWithField(system_list, field_eom=field_eom)\n",
    "\n",
    "    start_time = time.perf_counter()\n",
    "    contractions.compute_dynamics_with_field_multiple_systems(super_system, initial_field=initial_field, \n",
    "                                                                                        initial_state_list=initial_state_list, \n",
    "                                                                             start_time=start_time,\n",
    "                                                                                        process_tensor_list = process_tensor\n",
    "                                                                                        )\n",
    "    end_time = time.perf_counter()\n",
    "    time_taken = end_time - start_time\n",
    "\n",
    "    create_csv(filename, n, time_taken, overwrite = overwrite)"
   ]
  },
  {
   "cell_type": "code",
   "execution_count": 9,
   "metadata": {},
   "outputs": [
    {
     "name": "stdout",
     "output_type": "stream",
     "text": [
      "[[<oqupy.process_tensor.SimpleProcessTensor object at 0x00000245A79E95B0>], [<oqupy.process_tensor.SimpleProcessTensor object at 0x00000245A79E95B0>], [<oqupy.process_tensor.SimpleProcessTensor object at 0x00000245A79E95B0>], [<oqupy.process_tensor.SimpleProcessTensor object at 0x00000245A79E95B0>], [<oqupy.process_tensor.SimpleProcessTensor object at 0x00000245A79E95B0>], [<oqupy.process_tensor.SimpleProcessTensor object at 0x00000245A79E95B0>], [<oqupy.process_tensor.SimpleProcessTensor object at 0x00000245A79E95B0>], [<oqupy.process_tensor.SimpleProcessTensor object at 0x00000245A79E95B0>], [<oqupy.process_tensor.SimpleProcessTensor object at 0x00000245A79E95B0>], [<oqupy.process_tensor.SimpleProcessTensor object at 0x00000245A79E95B0>]]\n",
      "True\n",
      "False\n",
      "False\n",
      "False\n",
      "False\n",
      "False\n",
      "False\n",
      "False\n",
      "False\n",
      "False\n",
      "--> Compute dynamics with field:\n",
      "100.0%  406 of  406 [########################################] 00:02:43\n",
      "Elapsed time: 163.2s\n",
      "CSV runtime_data updated successfully\n"
     ]
    }
   ],
   "source": [
    "# find runtime for the computing dynamics of super-systems containing from 1 to 10 systems\n",
    "for i in range(1,11):\n",
    "    compute_n_systems(i, \"runtime_data.csv\")\n"
   ]
  }
 ],
 "metadata": {
  "kernelspec": {
   "display_name": "Python 3.8.7 ('oqupy_env': venv)",
   "language": "python",
   "name": "python3"
  },
  "language_info": {
   "codemirror_mode": {
    "name": "ipython",
    "version": 3
   },
   "file_extension": ".py",
   "mimetype": "text/x-python",
   "name": "python",
   "nbconvert_exporter": "python",
   "pygments_lexer": "ipython3",
   "version": "3.8.7"
  },
  "orig_nbformat": 4,
  "vscode": {
   "interpreter": {
    "hash": "0fa9779bf51bb2438704d17095e3c20a9cfae197a1b59b001d50d35ca2021d94"
   }
  }
 },
 "nbformat": 4,
 "nbformat_minor": 2
}
