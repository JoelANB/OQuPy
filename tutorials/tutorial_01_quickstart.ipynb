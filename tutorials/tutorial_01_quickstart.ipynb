{
 "cells": [
  {
   "cell_type": "markdown",
   "metadata": {},
   "source": [
    "# Tutorial 01 - Quickstart\n",
    "A quick introduction on how to use the TimeEvolvingMPO package to compute the dynamics of a quantum system that is possibly strongly coupled to a structured environment. It illustrates this by applying the TEMPO method to the strongly coupled spin boson model."
   ]
  },
  {
   "cell_type": "markdown",
   "metadata": {},
   "source": [
    "First, let's import TimeEvolvingMPO and some other packages we are going to use"
   ]
  },
  {
   "cell_type": "code",
   "execution_count": 1,
   "metadata": {},
   "outputs": [],
   "source": [
    "import sys\n",
    "sys.path.insert(0,'..')\n",
    "\n",
    "import time_evolving_mpo as tempo\n",
    "import numpy as np\n",
    "import matplotlib.pyplot as plt\n",
    "%matplotlib inline"
   ]
  },
  {
   "cell_type": "markdown",
   "metadata": {},
   "source": [
    "and check what version of tempo we are using."
   ]
  },
  {
   "cell_type": "code",
   "execution_count": 2,
   "metadata": {},
   "outputs": [
    {
     "data": {
      "text/plain": [
       "'0.0.3'"
      ]
     },
     "execution_count": 2,
     "metadata": {},
     "output_type": "execute_result"
    }
   ],
   "source": [
    "tempo.__version__"
   ]
  },
  {
   "cell_type": "markdown",
   "metadata": {},
   "source": [
    "**Contents:**\n",
    "\n",
    "* Example A - The Spin Boson Model\n",
    "    * A.1: The Model and its Parameters\n",
    "    * A.2: Create System, Spectral Density and Bath Objects\n",
    "    * A.3: The TEMPO Computation"
   ]
  },
  {
   "cell_type": "markdown",
   "metadata": {},
   "source": [
    "-------------------------------------------------\n",
    "## Example A - The Spin Boson Model\n",
    "\n",
    "As a first example let's try to reconstruct one of the lines in figure 2a of [Strathearn2018] ([Nat. Comm. 9, 3322 (2018)](https://doi.org/10.1038/s41467-018-05617-3) / [arXiv:1711.09641v3](https://arxiv.org/abs/1711.09641)). In this example we compute the time evolution of a spin which is strongly coupled to an ohmic bath (spin-boson model). Before we go through this step by step below, let's have a brief look at the script that will do the job - just to have an idea where we are going:"
   ]
  },
  {
   "cell_type": "code",
   "execution_count": 3,
   "metadata": {},
   "outputs": [
    {
     "name": "stdout",
     "output_type": "stream",
     "text": [
      "100.0%  150 of  150 [########################################] 00:00:25\n",
      "Elapsed time: 25.4s\n"
     ]
    },
    {
     "data": {
      "text/plain": [
       "<matplotlib.legend.Legend at 0x7f1b95173dd8>"
      ]
     },
     "execution_count": 3,
     "metadata": {},
     "output_type": "execute_result"
    },
    {
     "data": {
      "image/png": "[encoded data removed]",
      "text/plain": [
       "<Figure size 432x288 with 1 Axes>"
      ]
     },
     "metadata": {
      "needs_background": "light"
     },
     "output_type": "display_data"
    }
   ],
   "source": [
    "Omega = 1.0\n",
    "omega_cutoff = 5.0\n",
    "alpha = 0.3\n",
    "\n",
    "system = tempo.System(0.5 * Omega * tempo.operators.sigma(\"x\"))\n",
    "correlations = tempo.PowerLawSD(alpha=alpha, \n",
    "                                zeta=1, \n",
    "                                cutoff=omega_cutoff, \n",
    "                                cutoff_type='exponential', \n",
    "                                max_correlation_time=8.0)\n",
    "bath = tempo.Bath(0.5 * tempo.operators.sigma(\"z\"), correlations)\n",
    "tempo_parameters = tempo.TempoParameters(dt=0.1, dkmax=30, epsrel=10**(-5))\n",
    "\n",
    "dynamics = tempo.tempo_compute(system=system,\n",
    "                               bath=bath,\n",
    "                               initial_state=tempo.operators.spin_dm(\"up\"),\n",
    "                               start_time=0.0,\n",
    "                               end_time=15.0,\n",
    "                               parameters=tempo_parameters)\n",
    "t, s_z = dynamics.expectations(0.5*tempo.operators.sigma(\"z\"), real=True)\n",
    "\n",
    "plt.plot(t, s_z, label=r'$\\alpha=0.3$')\n",
    "plt.xlabel(r'$t\\,\\Omega$')\n",
    "plt.ylabel(r'$<S_z>$')\n",
    "plt.legend()"
   ]
  },
  {
   "cell_type": "markdown",
   "metadata": {},
   "source": [
    "### A.1: The Model and its Parameters \n",
    "We consider a system Hamiltonian\n",
    "$$ H_{S} = \\frac{\\Omega}{2} \\hat{\\sigma}_x \\mathrm{,}$$\n",
    "a bath Hamiltonian\n",
    "$$ H_{B} = \\sum_k \\omega_k \\hat{b}^\\dagger_k \\hat{b}_k  \\mathrm{,}$$\n",
    "and an interaction Hamiltonian\n",
    "$$ H_{I} =  \\frac{1}{2} \\hat{\\sigma}_z \\sum_k \\left( g_k \\hat{b}^\\dagger_k + g^*_k \\hat{b}_k \\right) \\mathrm{,}$$\n",
    "where $\\hat{\\sigma}_i$ are the Pauli operators, and the $g_k$ and $\\omega_k$ are such that the spectral density $J(\\omega)$ is\n",
    "$$ J(\\omega) = \\sum_k |g_k|^2 \\delta(\\omega - \\omega_k) = 2 \\, \\alpha \\, \\omega \\, \\exp\\left(-\\frac{\\omega}{\\omega_\\mathrm{cutoff}}\\right) \\mathrm{.} $$\n",
    "Also, let's assume the initial density matrix of the spin is the up state\n",
    "$$ \\rho(0) = \\begin{pmatrix} 1 & 0 \\\\ 0 & 0 \\end{pmatrix} $$ and the bath is initially at zero temperature."
   ]
  },
  {
   "cell_type": "markdown",
   "metadata": {},
   "source": [
    "For the numerical simulation it is advisable to choose a characteristic frequency and express all other physical parameters in terms of this frequency. Here, we choose $\\Omega$ for this and write:\n",
    "    \n",
    "* $\\Omega = 1.0 \\Omega$\n",
    "* $\\omega_c = 5.0 \\Omega$\n",
    "* $\\alpha = 0.3$"
   ]
  },
  {
   "cell_type": "code",
   "execution_count": 4,
   "metadata": {},
   "outputs": [],
   "source": [
    "Omega_A = 1.0\n",
    "omega_cutoff_A = 5.0\n",
    "alpha_A = 0.3"
   ]
  },
  {
   "cell_type": "markdown",
   "metadata": {},
   "source": [
    "### A.2: Create System, Spectral Density and Bath Objects"
   ]
  },
  {
   "cell_type": "markdown",
   "metadata": {},
   "source": [
    "To input the operators you can simply use numpy matrices. For the most common operators you can, more conveniently, use the `tempo.operators` module:"
   ]
  },
  {
   "cell_type": "code",
   "execution_count": 5,
   "metadata": {},
   "outputs": [
    {
     "data": {
      "text/plain": [
       "array([[0.+0.j, 1.+0.j],\n",
       "       [1.+0.j, 0.+0.j]])"
      ]
     },
     "execution_count": 5,
     "metadata": {},
     "output_type": "execute_result"
    }
   ],
   "source": [
    "tempo.operators.sigma(\"x\")"
   ]
  },
  {
   "cell_type": "code",
   "execution_count": 6,
   "metadata": {},
   "outputs": [
    {
     "data": {
      "text/plain": [
       "array([[1.+0.j, 0.+0.j],\n",
       "       [0.+0.j, 0.+0.j]])"
      ]
     },
     "execution_count": 6,
     "metadata": {},
     "output_type": "execute_result"
    }
   ],
   "source": [
    "tempo.operators.spin_dm(\"up\")"
   ]
  },
  {
   "cell_type": "markdown",
   "metadata": {},
   "source": [
    "#### System\n",
    "$$ H_{S} = \\frac{\\Omega}{2} \\hat{\\sigma}_x \\mathrm{,}$$"
   ]
  },
  {
   "cell_type": "code",
   "execution_count": 7,
   "metadata": {},
   "outputs": [],
   "source": [
    "system_A = tempo.System(0.5 * Omega_A * tempo.operators.sigma(\"x\"))"
   ]
  },
  {
   "cell_type": "markdown",
   "metadata": {},
   "source": [
    "#### Correlations\n",
    "$$ J(\\omega) = 2 \\, \\alpha \\, \\omega \\, \\exp\\left(-\\frac{\\omega}{\\omega_\\mathrm{cutoff}}\\right) $$"
   ]
  },
  {
   "cell_type": "markdown",
   "metadata": {},
   "source": [
    "Because the spectral density is of the standard power-law form,\n",
    "$$ J(\\omega) = 2 \\alpha \\frac{\\omega^\\zeta}{\\omega_c^{\\zeta-1}} X(\\omega,\\omega_c) $$\n",
    "with $\\zeta=1$ and $X$ of the type ``'exponential'`` we define the spectral density with:"
   ]
  },
  {
   "cell_type": "code",
   "execution_count": 8,
   "metadata": {},
   "outputs": [],
   "source": [
    "correlations_A = tempo.PowerLawSD(alpha=alpha_A, \n",
    "                                  zeta=1, \n",
    "                                  cutoff=omega_cutoff_A, \n",
    "                                  cutoff_type='exponential', \n",
    "                                  max_correlation_time=8.0)"
   ]
  },
  {
   "cell_type": "markdown",
   "metadata": {},
   "source": [
    "#### Bath\n",
    "The bath couples with the operator $\\frac{1}{2}\\hat{\\sigma}_z$ to the system."
   ]
  },
  {
   "cell_type": "code",
   "execution_count": 9,
   "metadata": {},
   "outputs": [],
   "source": [
    "bath_A = tempo.Bath(0.5 * tempo.operators.sigma(\"z\"), correlations_A)"
   ]
  },
  {
   "cell_type": "markdown",
   "metadata": {},
   "source": [
    "### A.3: The TEMPO Computation"
   ]
  },
  {
   "cell_type": "markdown",
   "metadata": {},
   "source": [
    "Now, that we have the system and the bath objects ready we can compute the dynamics of the spin starting in the up state, from time $t=0$ to $t=15\\,\\Omega^{-1}$"
   ]
  },
  {
   "cell_type": "code",
   "execution_count": 10,
   "metadata": {},
   "outputs": [
    {
     "name": "stderr",
     "output_type": "stream",
     "text": [
      "../time_evolving_mpo/tempo.py:492: UserWarning: Estimating parameters for TEMPO computation. No guarantie that resulting TEMPO computation converges towards the correct dynamics! Please refere to the TEMPO documentation and check convergence by varying the parameters for TEMPO manually.\n",
      "  warnings.warn(GUESS_WARNING_MSG, UserWarning)\n",
      "WARNING: Estimating parameters for TEMPO computation. No guarantie that resulting TEMPO computation converges towards the correct dynamics! Please refere to the TEMPO documentation and check convergence by varying the parameters for TEMPO manually.\n"
     ]
    },
    {
     "name": "stdout",
     "output_type": "stream",
     "text": [
      "100.3%  301 of  300 [########################################] 00:01:05\n",
      "Elapsed time: 65.9s\n"
     ]
    }
   ],
   "source": [
    "dynamics_A_1 = tempo.tempo_compute(system=system_A,\n",
    "                                   bath=bath_A,\n",
    "                                   initial_state=tempo.operators.spin_dm(\"up\"),\n",
    "                                   start_time=0.0,\n",
    "                                   end_time=15.0,\n",
    "                                   tollerance=0.01)"
   ]
  },
  {
   "cell_type": "markdown",
   "metadata": {},
   "source": [
    "and plot the result:"
   ]
  },
  {
   "cell_type": "code",
   "execution_count": 11,
   "metadata": {},
   "outputs": [
    {
     "data": {
      "text/plain": [
       "<matplotlib.legend.Legend at 0x7f1b94f6c4a8>"
      ]
     },
     "execution_count": 11,
     "metadata": {},
     "output_type": "execute_result"
    },
    {
     "data": {
      "image/png": "[encoded data removed]",
      "text/plain": [
       "<Figure size 432x288 with 1 Axes>"
      ]
     },
     "metadata": {
      "needs_background": "light"
     },
     "output_type": "display_data"
    }
   ],
   "source": [
    "t_A_1, z_A_1 = dynamics_A_1.expectations(0.5*tempo.operators.sigma(\"z\"), real=True)\n",
    "plt.plot(t_A_1, z_A_1, label=r'$\\alpha=0.3$')\n",
    "plt.xlabel(r'$t\\,\\Omega$')\n",
    "plt.ylabel(r'$<S_z>$')\n",
    "plt.legend()"
   ]
  },
  {
   "cell_type": "markdown",
   "metadata": {},
   "source": [
    "Yay! This looks like the plot in figure 2a [Strathearn2018]."
   ]
  },
  {
   "cell_type": "markdown",
   "metadata": {},
   "source": [
    "Let's have a look at the above warning. It said:\n",
    "\n",
    "```\n",
    "WARNING: Estimating parameters for TEMPO calculation. No guarantie that resulting TEMPO calculation converges towards the correct dynamics! Please refere to the TEMPO documentation and check convergence by varying the parameters for TEMPO manually.\n",
    "```\n",
    "We got this message because we didn't tell the package what parameters to use for the TEMPO computation, but instead only specified a `tollerance`. The package tries it's best by implicitly calling the function `tempo.guess_tempo_parameters()` to find parameters that are appropriate for the spectral density and system objects given."
   ]
  },
  {
   "cell_type": "markdown",
   "metadata": {},
   "source": [
    "#### TEMPO Parameters"
   ]
  },
  {
   "cell_type": "markdown",
   "metadata": {},
   "source": [
    "There are **three key parameters** to a TEMPO computation:\n",
    "\n",
    "* `dt` - Length of a time step $\\delta t$ - It should be small enough such that a trotterisation between the system Hamiltonian and the environment it valid, and the environment auto-correlation function is reasonably well sampled.\n",
    "    \n",
    "* `dkmax` - Number of time steps $K \\in \\mathbb{N}$ - It must be large enough such that $\\delta t \\times K$ is larger than the neccessary memory time $\\tau_\\mathrm{cut}$.\n",
    "\n",
    "* `epsrel` - The maximal relative error $\\epsilon_\\mathrm{rel}$ in the singular value truncation - It must be small enough such that the numerical compression (using tensor network algorithms) does not truncate relevant correlations."
   ]
  },
  {
   "cell_type": "markdown",
   "metadata": {},
   "source": [
    "To choose the right set of initial parameters, we recommend to first use the `tempo.guess_tempo_parameters()` function and then check with the helper function `tempo.helpers.plot_correlations_with_parameters()` whether it satisfies the above requirements:"
   ]
  },
  {
   "cell_type": "code",
   "execution_count": 12,
   "metadata": {},
   "outputs": [
    {
     "name": "stderr",
     "output_type": "stream",
     "text": [
      "WARNING: Estimating parameters for TEMPO computation. No guarantie that resulting TEMPO computation converges towards the correct dynamics! Please refere to the TEMPO documentation and check convergence by varying the parameters for TEMPO manually.\n"
     ]
    },
    {
     "name": "stdout",
     "output_type": "stream",
     "text": [
      "----------------------------------------------\n",
      "TempoParameters object: Roughly estimated parameters\n",
      " Estimated with 'guess_tempo_parameters()'\n",
      "  dt            = 0.0625 \n",
      "  dkmax         = 37 \n",
      "  epsrel        = 2.4846963223857106e-05 \n",
      "\n"
     ]
    }
   ],
   "source": [
    "parameters = tempo.guess_tempo_parameters(system=system_A,\n",
    "                                          bath=bath_A,\n",
    "                                          start_time=0.0,\n",
    "                                          end_time=5.0,\n",
    "                                          tollerance=0.01)\n",
    "print(parameters)"
   ]
  },
  {
   "cell_type": "code",
   "execution_count": 13,
   "metadata": {},
   "outputs": [
    {
     "name": "stderr",
     "output_type": "stream",
     "text": [
      "../time_evolving_mpo/helpers.py:59: UserWarning: Matplotlib is currently using module://ipykernel.pylab.backend_inline, which is a non-GUI backend, so cannot show the figure.\n",
      "  fig.show()\n"
     ]
    },
    {
     "data": {
      "text/plain": [
       "<matplotlib.axes._subplots.AxesSubplot at 0x7f1b949694a8>"
      ]
     },
     "execution_count": 13,
     "metadata": {},
     "output_type": "execute_result"
    },
    {
     "data": {
      "image/png": "[encoded data removed]",
      "text/plain": [
       "<Figure size 432x288 with 1 Axes>"
      ]
     },
     "metadata": {
      "needs_background": "light"
     },
     "output_type": "display_data"
    }
   ],
   "source": [
    "tempo.helpers.plot_correlations_with_parameters(bath_A.correlations, parameters)"
   ]
  },
  {
   "cell_type": "markdown",
   "metadata": {},
   "source": [
    "In this plot you see the real and imaginary part of the environments auto-correlation as a function of the delay time $\\tau$ and the sampling of it corresponding the the chosen parameters. The spacing and the number of sampling points is given by `dt` and `dkmax` respectively. We can see that the auto-correlation function is close to zero for delay times larger than approx $2 \\Omega^{-1}$ and that the sampling points follow the curve reasonably well. Thus this is a reasonable set of parameters."
   ]
  },
  {
   "cell_type": "markdown",
   "metadata": {},
   "source": [
    "We can choose a set of parameters by hand and bundle them into a `TempoParameters` object,"
   ]
  },
  {
   "cell_type": "code",
   "execution_count": 14,
   "metadata": {},
   "outputs": [
    {
     "name": "stdout",
     "output_type": "stream",
     "text": [
      "----------------------------------------------\n",
      "TempoParameters object: my rough parameters\n",
      " __no_description__\n",
      "  dt            = 0.1 \n",
      "  dkmax         = 30 \n",
      "  epsrel        = 1e-05 \n",
      "\n"
     ]
    }
   ],
   "source": [
    "tempo_parameters_A = tempo.TempoParameters(dt=0.1, dkmax=30, epsrel=10**(-5), name=\"my rough parameters\")\n",
    "print(tempo_parameters_A)"
   ]
  },
  {
   "cell_type": "markdown",
   "metadata": {},
   "source": [
    "and check again with the helper function:"
   ]
  },
  {
   "cell_type": "code",
   "execution_count": 15,
   "metadata": {},
   "outputs": [
    {
     "data": {
      "text/plain": [
       "<matplotlib.axes._subplots.AxesSubplot at 0x7f1b948af320>"
      ]
     },
     "execution_count": 15,
     "metadata": {},
     "output_type": "execute_result"
    },
    {
     "data": {
      "image/png": "[encoded data removed]",
      "text/plain": [
       "<Figure size 432x288 with 1 Axes>"
      ]
     },
     "metadata": {
      "needs_background": "light"
     },
     "output_type": "display_data"
    }
   ],
   "source": [
    "tempo.helpers.plot_correlations_with_parameters(bath_A.correlations, tempo_parameters_A)"
   ]
  },
  {
   "cell_type": "markdown",
   "metadata": {},
   "source": [
    "We could feed this object into the `tempo.tempo_compute()` function to get the dynamics of the system. However, instead of that, we can split up the work that `tempo.tempo_compute()` does into several steps, which allows us to resume a computation to get later system dynamics without having to start over. For this we start with creating a `Tempo` object:"
   ]
  },
  {
   "cell_type": "code",
   "execution_count": 16,
   "metadata": {},
   "outputs": [],
   "source": [
    "tempo_A = tempo.Tempo(system=system_A,\n",
    "                      bath=bath_A,\n",
    "                      parameters=tempo_parameters_A,\n",
    "                      initial_state=tempo.operators.spin_dm(\"up\"),\n",
    "                      start_time=0.0)"
   ]
  },
  {
   "cell_type": "markdown",
   "metadata": {},
   "source": [
    "We can start by computing the dynamics up to time $5.0\\,\\Omega^{-1}$,"
   ]
  },
  {
   "cell_type": "code",
   "execution_count": 17,
   "metadata": {},
   "outputs": [
    {
     "name": "stdout",
     "output_type": "stream",
     "text": [
      "100.0%   50 of   50 [########################################] 00:00:07\n",
      "Elapsed time: 7.5s\n"
     ]
    }
   ],
   "source": [
    "tempo_A.compute(end_time=5.0)"
   ]
  },
  {
   "cell_type": "markdown",
   "metadata": {},
   "source": [
    "then get and plot the dynamics of expecatation values,"
   ]
  },
  {
   "cell_type": "code",
   "execution_count": 18,
   "metadata": {},
   "outputs": [
    {
     "data": {
      "text/plain": [
       "<matplotlib.legend.Legend at 0x7f1b950e7358>"
      ]
     },
     "execution_count": 18,
     "metadata": {},
     "output_type": "execute_result"
    },
    {
     "data": {
      "image/png": "[encoded data removed]",
      "text/plain": [
       "<Figure size 432x288 with 1 Axes>"
      ]
     },
     "metadata": {
      "needs_background": "light"
     },
     "output_type": "display_data"
    }
   ],
   "source": [
    "dynamics_A_2 = tempo_A.get_dynamics()\n",
    "plt.plot(*dynamics_A_2.expectations(0.5*tempo.operators.sigma(\"z\"),real=True), label=r'$\\alpha=0.3$')\n",
    "plt.xlabel(r'$t\\,\\Omega$')\n",
    "plt.ylabel(r'$<S_z>$')\n",
    "plt.legend()"
   ]
  },
  {
   "cell_type": "markdown",
   "metadata": {},
   "source": [
    "then continue the computation to $15.0\\,\\Omega^{-1}$,"
   ]
  },
  {
   "cell_type": "code",
   "execution_count": 19,
   "metadata": {},
   "outputs": [
    {
     "name": "stdout",
     "output_type": "stream",
     "text": [
      "100.0%  100 of  100 [########################################] 00:00:25\n",
      "Elapsed time: 25.7s\n"
     ]
    }
   ],
   "source": [
    "tempo_A.compute(end_time=15.0)"
   ]
  },
  {
   "cell_type": "markdown",
   "metadata": {},
   "source": [
    "and then again get and plot the dynamics of expecatation values."
   ]
  },
  {
   "cell_type": "code",
   "execution_count": 20,
   "metadata": {},
   "outputs": [
    {
     "data": {
      "text/plain": [
       "<matplotlib.legend.Legend at 0x7f1b950b5e48>"
      ]
     },
     "execution_count": 20,
     "metadata": {},
     "output_type": "execute_result"
    },
    {
     "data": {
      "image/png": "[encoded data removed]",
      "text/plain": [
       "<Figure size 432x288 with 1 Axes>"
      ]
     },
     "metadata": {
      "needs_background": "light"
     },
     "output_type": "display_data"
    }
   ],
   "source": [
    "dynamics_A_2 = tempo_A.get_dynamics()\n",
    "plt.plot(*dynamics_A_2.expectations(0.5*tempo.operators.sigma(\"z\"),real=True), label=r'$\\alpha=0.3$')\n",
    "plt.xlabel(r'$t\\,\\Omega$')\n",
    "plt.ylabel(r'$<S_z>$')\n",
    "plt.legend()"
   ]
  },
  {
   "cell_type": "markdown",
   "metadata": {},
   "source": [
    "Finally, we note: to validate the accuracy the result **it vital to check the convergence of such a simulation by varying all three computational parameters!** For this we recommend repeating the same simulation with slightly \"better\" parameters (smaller `dt`, larger `dkmax`, smaller `epsrel`) and to consider the difference of the result as an estimate of the upper bound of the accuracy of the simulation."
   ]
  },
  {
   "cell_type": "markdown",
   "metadata": {},
   "source": [
    "-------------------------------------------------"
   ]
  }
 ],
 "metadata": {
  "kernelspec": {
   "display_name": "Python 3",
   "language": "python",
   "name": "python3"
  },
  "language_info": {
   "codemirror_mode": {
    "name": "ipython",
    "version": 3
   },
   "file_extension": ".py",
   "mimetype": "text/x-python",
   "name": "python",
   "nbconvert_exporter": "python",
   "pygments_lexer": "ipython3",
   "version": "3.6.12"
  },
  "widgets": {
   "application/vnd.jupyter.widget-state+json": {
    "state": {},
    "version_major": 1,
    "version_minor": 0
   }
  }
 },
 "nbformat": 4,
 "nbformat_minor": 2
}
