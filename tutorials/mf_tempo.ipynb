{
 "cells": [
  {
   "cell_type": "markdown",
   "metadata": {},
   "source": [
    "# Mean-Field Dynamics\n",
    "\n",
    "In this tutorial we discuss to use TEMPO and the process tensor approach to compute the dynamics of a many-body system of the type introduced in [FowlerWright2021] ([arXiv:2112.09003](http://arxiv.org/abs/2112.09003)).\n",
    "\n",
    "**Contents:**\n",
    "\n",
    "1. Background and introduction\n",
    "    * many-body system and environment Hamiltonians\n",
    "    * system Hamiltonian and field equation of motion after the mean-field reduction\n",
    "2. Creating time-dependent system with field and bath objects\n",
    "3. TEMPO computation for single dynamics\n",
    "4. PT-TEMPO computation for multiple sets of dynamics"
   ]
  },
  {
   "cell_type": "markdown",
   "metadata": {},
   "source": [
    "We firstly import OQuPy and other useful packages:"
   ]
  },
  {
   "cell_type": "code",
   "execution_count": 1,
   "metadata": {},
   "outputs": [],
   "source": [
    "import sys\n",
    "sys.path.insert(0,'..')\n",
    "import oqupy\n",
    "import numpy as np\n",
    "import matplotlib.pyplot as plt"
   ]
  },
  {
   "cell_type": "markdown",
   "metadata": {},
   "source": [
    "Check the current OQuPy version; mean-field functionality was introduced in version **0.3.0**"
   ]
  },
  {
   "cell_type": "code",
   "execution_count": 2,
   "metadata": {},
   "outputs": [
    {
     "data": {
      "text/plain": [
       "'0.2.0'"
      ]
     },
     "execution_count": 2,
     "metadata": {},
     "output_type": "execute_result"
    }
   ],
   "source": [
    "oqupy.__version__"
   ]
  },
  {
   "cell_type": "markdown",
   "metadata": {},
   "source": [
    "The following matrices will be useful below:"
   ]
  },
  {
   "cell_type": "code",
   "execution_count": 3,
   "metadata": {},
   "outputs": [],
   "source": [
    "sigma_z = oqupy.operators.sigma(\"z\")\n",
    "sigma_plus = oqupy.operators.sigma(\"+\")\n",
    "sigma_minus = oqupy.operators.sigma(\"-\")"
   ]
  },
  {
   "cell_type": "markdown",
   "metadata": {},
   "source": [
    "-------------------------------------------------\n",
    "## 1. Background and introduction\n",
    "\n",
    "Our goal will be to reproduce a line from **Fig. 2a.** of [FowlerWright2021] ([arXiv:2112.09003](http://arxiv.org/abs/2112.09003)) which shows the photon number dynamics for the driven-dissipative system of molecules in a single-mode cavity.\n",
    "\n",
    "### Many-body system and environment Hamiltonian\n",
    "The Hamiltonian describing the many-body system with one-to-all light-matter coupling is\n",
    "$$\n",
    "H_{S} = \\omega_c a^{\\dagger}_{}a^{\\vphantom{\\dagger}}_{} \n",
    "\t+ \\sum_{i=1}^N \\left[\\frac{\\omega_0}{2} \\sigma^z_i\n",
    "\t+  \\frac{\\Omega}{2\\sqrt{N}} \\left( a^{\\vphantom{\\dagger}}_{} \\sigma^+_i + a^{\\dagger}_{} \\sigma^-_i \\right)\\right]\n",
    "$$\n",
    "Together with the vibrational environment of each molecule,\n",
    "$$\n",
    "\tH_{E}^{(i)} = \\sum_{j} \\left[\t\\nu_{j} b^{\\dagger}_{j} b^{\\vphantom{\\dagger}}_{j} \n",
    "\t+ \\frac{\\xi_{j}}{2} (b^{\\vphantom{\\dagger}}_{j}+b^{\\dagger}_{j})\\sigma^z_i\\right]\\text{.}\n",
    "$$\n",
    "This is taken to be a continuum of low frequency modes with coupling characterized by a spectral density with a 'Gaussian' cut-off\n",
    "$$\n",
    "\\begin{align*}\n",
    "J(\\nu) &= \\sum_{j}  \\left(\\frac{\\xi_j}{2}\\right)^2\n",
    "\\delta(\\nu-\\nu_j)= 2\\alpha \\nu e^{-(\\nu/\\nu_c)^2}\\text{,} \\quad \\nu>0\\text{,}\n",
    "\\end{align*}\n",
    "$$\n",
    "where $\\alpha=0.25$ is the unit-less coupling strenght and $\\hbar \\nu_c = 0.15$ eV is a cutoff frequency for the environment of the BODIPY-Br molecule considered in the Letter. For the numericla simulation we here choose to express all frequencies as angular frequencies in the units of $\\frac{1}{\\text{ps}}$ (setting $\\hbar = k_B = 1$) and all times in units of ps. The parameters relevant to **Fig. 2a.** given in those units are:\n",
    "\n",
    "* $\\nu_c = 0.15 \\text{eV} = 227.9 \\frac{1}{\\text{ps}}$ ... environment cutoff frequency\n",
    "* $T = 300 \\text{K} = 39.3 \\frac{1}{\\text{ps}}$  ... environment temperature\n",
    "* $\\omega_0 = 0.0 \\frac{1}{\\text{ps}}$ ... two-level system frequency **\\***\n",
    "* $\\omega_c = -0.02 \\text{eV} = -30.4 \\frac{1}{\\text{ps}}$ ... bare cavity frequency\n",
    "* $\\Omega = 0.2 \\text{eV} = 303.9 \\frac{1}{\\text{ps}}$ ... collective light-matter coupling\n",
    "\n",
    "together with the rates\n",
    "\n",
    "* $\\kappa = 15.2 \\frac{1}{\\text{ps}}$ ... field decay\n",
    "* $\\Gamma_\\downarrow = 30.4 \\frac{1}{\\text{ps}}$ ... electronic dissipation\n",
    "* $\\Gamma_\\uparrow \\in (0.2\\Gamma_\\downarrow, 0.8\\Gamma_\\downarrow)$ ... electronic pumping\n",
    "\n",
    "The latter appear as prefactors for Markovian terms in the quantum master equation for the total density operator\n",
    "$$\n",
    "\\partial_t \\rho = -i \\biggl[ H_S + \\sum_{i=1}^N H_E^{(i)}, \\rho \\biggr]\n",
    "\t+ 2 \\kappa \\mathcal{L}[a^{\\vphantom{\\dagger}}_{}]\n",
    "\t+ \\sum_{i=1}^N (\\Gamma_\\uparrow \\mathcal{L}[\\sigma^+_i]\n",
    "\t+  \\Gamma_\\downarrow \\mathcal{L}[\\sigma^-_i])\\text{.}\n",
    "$$\n",
    "As indicated, it is the pump strength $\\Gamma_\\uparrow$ that is varied to generate the different lines of **Fig. 2a.** In this tutorial we generate the $\\Gamma_\\uparrow=0.8\\,\\Gamma_\\downarrow$ line using the TEMPO method, and then the Process Tensor approach to calculate all of the lines efficiently.  \n",
    "\n",
    "The following code box defines each of the above parameters.\n",
    "\n",
    "\n",
    "**\\* N.B.** for calculating the dynamics only the detuning $\\omega_c-\\omega_0$ is relevant, so we set $\\omega_0=0$ for convenience."
   ]
  },
  {
   "cell_type": "code",
   "execution_count": 4,
   "metadata": {},
   "outputs": [],
   "source": [
    "alpha = 0.25\n",
    "nu_c = 227.9\n",
    "T = 39.3\n",
    "omega_0 = 0.0\n",
    "omega_c = -30.4\n",
    "Omega = 303.9\n",
    "\n",
    "kappa = 15.2\n",
    "Gamma_down = 30.4\n",
    "Gamma_up = 0.8 * Gamma_down"
   ]
  },
  {
   "cell_type": "markdown",
   "metadata": {},
   "source": [
    "### System Hamiltonian and field equation of motion after the mean-field reduction"
   ]
  },
  {
   "cell_type": "markdown",
   "metadata": {},
   "source": [
    "The mean-field approach is based on a product-state ansatz for the total density operator $\\rho$,\n",
    "$$\n",
    "\\rho = \\rho_a \\otimes \\bigotimes_{i=1}^N \\rho_i,\\quad \\rho_a= \\text{Tr}_{\\otimes{i}}\\rho,\\quad \\rho_i = \\text{Tr}_{a, \\otimes{j\\neq i}} \\rho,\n",
    "$$ \n",
    "where $\\text{Tr}_{\\otimes{i}}$ denotes a partial trace taken over the Hilbert space of all two-level systems and $\\text{Tr}_{a, \\otimes{j\\neq i}}$ the trace over the photonic degree of freedom and all but the $i^{\\text{th}}$ two-level system. As detailed in the Supplement of the Letter, after rescaling the field $\\langle a \\rangle \\to \\langle a \\rangle/\\sqrt{N}$ ($\\langle a \\rangle$ scales with $\\sqrt{N}$ in the lasing phase), the dynamics are controlled by the mean-field Hamiltonian $H_{\\text{MF}}$ for a *single molecule,*\n",
    "$$\n",
    "\tH_\\text{MF} = \n",
    " \\frac{\\omega_0}{2}\\sigma^z+\n",
    "\t\\frac{\\Omega}{2}\\left( \\langle a \\rangle \\sigma^+ +\n",
    "\t\\langle a \\rangle^{*}\\sigma^- \\right)\\text{,}\n",
    "$$\n",
    "together with the equation of motion for the field $\\langle a \\rangle$,\n",
    "$$\n",
    "\\partial_t \\langle a \\rangle = \n",
    "\t- (i\\omega_c+\\kappa)\\langle a \\rangle- i \\frac{\\Omega}{2}\\langle\\sigma^-\\rangle.\n",
    "$$\n",
    "Therefore in order to calculate the dynamics we need to encode the field's equation of motion in addition to the Hamiltonian for a single two level-system $\\rho_i$ (which we identify as the 'system' in our TEMPO computation). \n",
    "\n",
    "In OQuPy, the relevant classes and methods hence all have the `WithField` suffix: `TimeDependentSystemWithField`, `DynamicsWithField`, `TempoWithField` (TEMPO) and `compute_dynamics_with_field()` (PT-TEMPO)."
   ]
  },
  {
   "cell_type": "markdown",
   "metadata": {},
   "source": [
    "## 2. Creating time-dependent system with field and bath objects\n",
    "A `TimedependentSystemWithField` object requires two physical inputs: a Hamiltonian, which is a function of time $t$ and field $\\langle a \\rangle$ (in that order), and a equation of motion for the field, which is a function of time $t$, system state $\\rho_i$ and field $\\langle a \\rangle$. Positional arguments are used for these functions, so the order of arguments matters whilst their name does not:**\\***"
   ]
  },
  {
   "cell_type": "code",
   "execution_count": 5,
   "metadata": {},
   "outputs": [],
   "source": [
    "def H_MF(t, a):\n",
    "    return 0.5 * omega_0 * sigma_z +\\\n",
    "        0.5 * Omega * (a * sigma_plus + np.conj(a) * sigma_minus)\n",
    "def field_eom(t, state, a):\n",
    "    expect_val = np.matmul(sigma_minus, state).trace()\n",
    "    return -(1j * omega_c + kappa) * a - 0.5j * Omega * expect_val"
   ]
  },
  {
   "cell_type": "markdown",
   "metadata": {},
   "source": [
    "Note $\\rho_i$ is provided as a $2\\times2$ matrix, hence to compute the expectation $\\langle \\sigma^- \\rangle$ we used matrix multiplication with $\\sigma^-$ and took the trace. It's a good idea to test these functions:"
   ]
  },
  {
   "cell_type": "code",
   "execution_count": 6,
   "metadata": {},
   "outputs": [
    {
     "name": "stdout",
     "output_type": "stream",
     "text": [
      "H_eval = [[  0.    +0.j   151.95+151.95j]\n",
      " [151.95-151.95j   0.    +0.j  ]]\n",
      "EOM_eval = (258.29999999999995+15.2j)\n"
     ]
    }
   ],
   "source": [
    "test_field = 1.0+1.0j\n",
    "test_time = 0.01\n",
    "test_state = np.array([[0.0,2j],[-2j,1.0]])\n",
    "print('H_eval =', H_MF(test_time, test_field))\n",
    "print('EOM_eval =', field_eom(test_time, test_state, test_field))"
   ]
  },
  {
   "cell_type": "markdown",
   "metadata": {},
   "source": [
    "Secondly, we need to specify Lindblad operators for the pumping and dissipation processes:"
   ]
  },
  {
   "cell_type": "code",
   "execution_count": 7,
   "metadata": {},
   "outputs": [],
   "source": [
    "gammas = [ lambda t: Gamma_down, lambda t: Gamma_up]\n",
    "lindblad_operators = [ lambda t: sigma_minus, lambda t: sigma_plus]"
   ]
  },
  {
   "cell_type": "markdown",
   "metadata": {},
   "source": [
    "Here the rates and Lindblad operators must be callables taking a single argument - time - even though in our example there is no time-dependence (see **\\*** below). The system-field object is then constructed with"
   ]
  },
  {
   "cell_type": "code",
   "execution_count": 8,
   "metadata": {},
   "outputs": [],
   "source": [
    "system = oqupy.TimeDependentSystemWithField(\n",
    "        H_MF,\n",
    "        field_eom,\n",
    "        gammas=gammas,\n",
    "        lindblad_operators=lindblad_operators)"
   ]
  },
  {
   "cell_type": "markdown",
   "metadata": {},
   "source": [
    "Correlations and a Bath object are created in the same way as in any other TEMPO computation (refer to preceding tutorials):"
   ]
  },
  {
   "cell_type": "code",
   "execution_count": 9,
   "metadata": {},
   "outputs": [],
   "source": [
    "correlations = oqupy.PowerLawSD(alpha=alpha,\n",
    "                                zeta=1,\n",
    "                                cutoff=nu_c,\n",
    "                                cutoff_type='gaussian',\n",
    "                                temperature=T)\n",
    "bath = oqupy.Bath(0.5 * sigma_z, correlations)"
   ]
  },
  {
   "cell_type": "markdown",
   "metadata": {},
   "source": [
    "**\\*** In particular both functions must have a first argument representing time, even if the problem - as here - has no explicit time-dependence (for codebase simplicity there is no `SystemWithField` class)."
   ]
  },
  {
   "cell_type": "markdown",
   "metadata": {},
   "source": [
    "## 3. TEMPO computation for single dynamics"
   ]
  },
  {
   "cell_type": "markdown",
   "metadata": {},
   "source": [
    "For our simulations we use the same initial conditions for the system and state used in the Letter:"
   ]
  },
  {
   "cell_type": "code",
   "execution_count": 10,
   "metadata": {},
   "outputs": [],
   "source": [
    "initial_field = np.sqrt(0.05) # Note n_0 = <a^dagger a>(0) = 0.05\n",
    "initial_state = np.array([[0,0],[0,1]]) # spin down"
   ]
  },
  {
   "cell_type": "markdown",
   "metadata": {},
   "source": [
    "To reduce the computation time we simulate only the first 0.3 ps of the dynamics with much rougher convergence parameters compared to the letter."
   ]
  },
  {
   "cell_type": "code",
   "execution_count": 11,
   "metadata": {},
   "outputs": [],
   "source": [
    "tempo_parameters = oqupy.TempoParameters(dt=3.2e-3, dkmax=20, epsrel=10**(-5))\n",
    "start_time = 0.0\n",
    "end_time = 0.3"
   ]
  },
  {
   "cell_type": "markdown",
   "metadata": {},
   "source": [
    "The `oqupy.TempoWithField.compute` method may then be used to compute the dynamics in exactly the same way a call to `oqupy.Tempo.compute` is used to compute the dynamics for an ordinary `System` or `TimeDependentSystem`:"
   ]
  },
  {
   "cell_type": "code",
   "execution_count": 12,
   "metadata": {},
   "outputs": [
    {
     "name": "stdout",
     "output_type": "stream",
     "text": [
      "--> TEMPO-with-field computation:\n",
      "100.0%   93 of   93 [########################################] 00:00:18\n",
      "Elapsed time: 18.7s\n"
     ]
    }
   ],
   "source": [
    "tempo_sys = oqupy.TempoWithField(system=system,\n",
    "                                 bath=bath,\n",
    "                                 initial_state=initial_state,\n",
    "                                 initial_field=initial_field,\n",
    "                                 start_time=start_time,\n",
    "                                 parameters=tempo_parameters)\n",
    "dynamics_with_field = tempo_sys.compute(end_time=end_time)"
   ]
  },
  {
   "cell_type": "markdown",
   "metadata": {},
   "source": [
    "`TempoWithField.compute` returns a `DynamicsWithField` object containing both the state matrices and field values at each timestep, in addition to the timesteps themselves:"
   ]
  },
  {
   "cell_type": "code",
   "execution_count": 13,
   "metadata": {},
   "outputs": [],
   "source": [
    "times = dynamics_with_field.times\n",
    "states = dynamics_with_field.states\n",
    "fields = dynamics_with_field.fields"
   ]
  },
  {
   "cell_type": "markdown",
   "metadata": {},
   "source": [
    "We plot a the square value of the fields i.e. the photon number, producing the first part of a single line of **Fig. 2a.**:"
   ]
  },
  {
   "cell_type": "code",
   "execution_count": 14,
   "metadata": {},
   "outputs": [
    {
     "data": {
      "text/plain": [
       "<matplotlib.legend.Legend at 0x7f920a714208>"
      ]
     },
     "execution_count": 14,
     "metadata": {},
     "output_type": "execute_result"
    },
    {
     "data": {
      "image/png": "[encoded data removed]",
      "text/plain": [
       "<Figure size 432x288 with 1 Axes>"
      ]
     },
     "metadata": {
      "needs_background": "light"
     },
     "output_type": "display_data"
    }
   ],
   "source": [
    "n = np.abs(fields)**2\n",
    "plt.plot(times, n, label=r'$\\Gamma_\\uparrow = 0.8\\Gamma_\\downarrow$')\n",
    "plt.xlabel(r'$t$ (ps)')\n",
    "plt.ylabel(r'$n/N$')\n",
    "plt.ylim((0.0,0.15))\n",
    "plt.legend(loc='upper left')"
   ]
  },
  {
   "cell_type": "markdown",
   "metadata": {},
   "source": [
    "If you have the time you can calculate the dynamics to $t=1.3\\,\\text{ps}$ as in the Letter and check that, even for these very rough parameters, the results are reasonable close to being converged with respect to `dt`, `dkmax` and `epsrel`.\n",
    "\n",
    "While you could repeat the TEMPO computation for each pump strength $\\Gamma_\\uparrow$ appearing in **Fig. 2a.**, a more efficient solution for calculating dynamics for multiple sets of system parameters (in this case Lindblad rates) is provided by PT-TEMPO."
   ]
  },
  {
   "cell_type": "markdown",
   "metadata": {},
   "source": [
    "## 4. PT-TEMPO computation for multiple sets of dynamics\n",
    "The above calculation can be performed quickly for many-different pump strengths  $\\Gamma_\\uparrow$ using a single process tensor. \n",
    "\n",
    "As discussed in the Supplement Material for the Letter, there is no guarantee that computational parameters that gave a set of converged results for the TEMPO method will give converged results for a PT-TEMPO calculation. For the sake of this tutorial however let's assume the above parameters continue to be reasonable. The process tensor to time $t=0.3\\,\\text{ps}$ is calculated using these parameters and the bath via"
   ]
  },
  {
   "cell_type": "code",
   "execution_count": 15,
   "metadata": {},
   "outputs": [
    {
     "name": "stdout",
     "output_type": "stream",
     "text": [
      "--> PT-TEMPO computation:\n",
      "100.0%   93 of   93 [########################################] 00:00:06\n",
      "Elapsed time: 6.3s\n"
     ]
    }
   ],
   "source": [
    "process_tensor = oqupy.pt_tempo_compute(bath=bath,\n",
    "                                        start_time=0.0,\n",
    "                                        end_time=0.3,\n",
    "                                        parameters=tempo_parameters)"
   ]
  },
  {
   "cell_type": "markdown",
   "metadata": {},
   "source": [
    "Refer the Time Dependence and PT-TEMPO tutorial for further discussion of the process tensor.\n",
    "\n",
    "To calculate the dynamics for the 4 different pump strengths in **Fig. 2a.**, we define a separate system with field object for each pump strength. Only the `gammas` array needs to be modified constructor calls:"
   ]
  },
  {
   "cell_type": "code",
   "execution_count": 16,
   "metadata": {},
   "outputs": [],
   "source": [
    "pump_ratios = [0.2, 0.4, 0.6, 0.8]\n",
    "systems = []\n",
    "for ratio in pump_ratios:\n",
    "    Gamma_up = ratio * Gamma_down\n",
    "    # N.B. a default argument is used to avoid the late-binding closure issue\n",
    "    # discussed here: https://docs.python-guide.org/writing/gotchas/#late-binding-closures\n",
    "    gammas = [ lambda t: Gamma_down, lambda t, Gamma_up=Gamma_up: Gamma_up]\n",
    "     # Use the same Hamiltonian, equation of motion and Lindblad operators\n",
    "    system = oqupy.TimeDependentSystemWithField(H_MF,\n",
    "        field_eom,\n",
    "        gammas=gammas,\n",
    "        lindblad_operators=lindblad_operators)\n",
    "    systems.append(system)"
   ]
  },
  {
   "cell_type": "markdown",
   "metadata": {},
   "source": [
    "We can then use `compute_dynamics_with_field` to compute the dynamics at each $\\Gamma_\\uparrow$ for the particular initial condition using the process tensor calculated above:"
   ]
  },
  {
   "cell_type": "code",
   "execution_count": 17,
   "metadata": {},
   "outputs": [
    {
     "name": "stdout",
     "output_type": "stream",
     "text": [
      "--> Compute dynamics with field:\n",
      "100.0%   93 of   93 [########################################] 00:00:14\n",
      "Elapsed time: 14.0s\n",
      "--> Compute dynamics with field:\n",
      "100.0%   93 of   93 [########################################] 00:00:14\n",
      "Elapsed time: 14.8s\n",
      "--> Compute dynamics with field:\n",
      "100.0%   93 of   93 [########################################] 00:00:14\n",
      "Elapsed time: 14.5s\n",
      "--> Compute dynamics with field:\n",
      "100.0%   93 of   93 [########################################] 00:00:14\n",
      "Elapsed time: 14.1s\n"
     ]
    }
   ],
   "source": [
    "t_list = []\n",
    "n_list = []\n",
    "for i,system in enumerate(systems):\n",
    "    dynamics = oqupy.compute_dynamics_with_field(\n",
    "        process_tensor=process_tensor,\n",
    "        system=system,\n",
    "        initial_state=initial_state,\n",
    "        initial_field=initial_field,\n",
    "        start_time=0.0)\n",
    "    t = dynamics.times\n",
    "    fields = dynamics.fields\n",
    "    n = np.abs(fields)**2\n",
    "    t_list.append(t)\n",
    "    n_list.append(n)"
   ]
  },
  {
   "cell_type": "markdown",
   "metadata": {},
   "source": [
    "Finally, plotting the results:"
   ]
  },
  {
   "cell_type": "code",
   "execution_count": 18,
   "metadata": {},
   "outputs": [
    {
     "data": {
      "text/plain": [
       "<matplotlib.legend.Legend at 0x7f920a5ee438>"
      ]
     },
     "execution_count": 18,
     "metadata": {},
     "output_type": "execute_result"
    },
    {
     "data": {
      "image/png": "[encoded data removed]",
      "text/plain": [
       "<Figure size 432x288 with 1 Axes>"
      ]
     },
     "metadata": {
      "needs_background": "light"
     },
     "output_type": "display_data"
    }
   ],
   "source": [
    "for i,n in enumerate(n_list):\n",
    "    ratio = pump_ratios[i]\n",
    "    label = r'$\\Gamma_\\uparrow = {}\\Gamma_\\downarrow$'.format(pump_ratios[i])\n",
    "    plt.plot(t_list[i], n_list[i], label=label)\n",
    "plt.xlabel(r'$t$ (ps)')\n",
    "plt.ylabel(r'$n/N$')\n",
    "plt.ylim((0.0,0.15))\n",
    "plt.legend(loc='upper left')"
   ]
  },
  {
   "cell_type": "code",
   "execution_count": null,
   "metadata": {},
   "outputs": [],
   "source": []
  }
 ],
 "metadata": {
  "interpreter": {
   "hash": "56674a1249193ed385a20db9ba6c6497b0cb98d98f01f014399e91d8567384eb"
  },
  "kernelspec": {
   "display_name": "Python 3",
   "language": "python",
   "name": "python3"
  },
  "language_info": {
   "codemirror_mode": {
    "name": "ipython",
    "version": 3
   },
   "file_extension": ".py",
   "mimetype": "text/x-python",
   "name": "python",
   "nbconvert_exporter": "python",
   "pygments_lexer": "ipython3",
   "version": "3.6.13"
  },
  "widgets": {
   "application/vnd.jupyter.widget-state+json": {
    "state": {},
    "version_major": 1,
    "version_minor": 0
   }
  }
 },
 "nbformat": 4,
 "nbformat_minor": 2
}
