{
 "cells": [
  {
   "cell_type": "markdown",
   "metadata": {},
   "source": [
    "# Time dependence and PT-TEMPO\n",
    "A quick introduction on how to use the OQuPy package to compute the dynamics of a time dependent quantum system and how to employ the process tensor TEMPO method. We illustrate this by applying TEMPO and PT-TEMPO to a quantum dot driven by a time dependent laser pulse."
   ]
  },
  {
   "cell_type": "markdown",
   "metadata": {},
   "source": [
    "**Contents:**\n",
    "\n",
    "* Example - Quantum dot driven by a laser pulse\n",
    "    * 1. Hamiltonian for driven quantum dot with bosonic environment\n",
    "    * 2. Laser pulse / time dependent system\n",
    "    * 3. Create time dependent system object\n",
    "    * 4. TEMPO computation\n",
    "    * 5. Using PT-TEMPO to explore many different laser pulses"
   ]
  },
  {
   "cell_type": "markdown",
   "metadata": {},
   "source": [
    "First, let's import OQuPy and some other packages we are going to use"
   ]
  },
  {
   "cell_type": "code",
   "execution_count": 1,
   "metadata": {},
   "outputs": [],
   "source": [
    "import sys\n",
    "sys.path.insert(0,'..')\n",
    "\n",
    "import oqupy\n",
    "import numpy as np\n",
    "import matplotlib.pyplot as plt"
   ]
  },
  {
   "cell_type": "markdown",
   "metadata": {},
   "source": [
    "and check what version of tempo we are using."
   ]
  },
  {
   "cell_type": "code",
   "execution_count": 2,
   "metadata": {},
   "outputs": [
    {
     "data": {
      "text/plain": [
       "'0.2-dev'"
      ]
     },
     "execution_count": 2,
     "metadata": {},
     "output_type": "execute_result"
    }
   ],
   "source": [
    "oqupy.__version__"
   ]
  },
  {
   "cell_type": "markdown",
   "metadata": {},
   "source": [
    "Let's also import some shorthands for the spin Pauli operators and density matrices."
   ]
  },
  {
   "cell_type": "code",
   "execution_count": 3,
   "metadata": {},
   "outputs": [],
   "source": [
    "sigma_x = oqupy.operators.sigma(\"x\")\n",
    "sigma_y = oqupy.operators.sigma(\"y\")\n",
    "sigma_z = oqupy.operators.sigma(\"z\")\n",
    "up_density_matrix = oqupy.operators.spin_dm(\"z+\")\n",
    "down_density_matrix = oqupy.operators.spin_dm(\"z-\")\n",
    "mixed_density_matrix = oqupy.operators.spin_dm(\"mixed\")"
   ]
  },
  {
   "cell_type": "markdown",
   "metadata": {},
   "source": [
    "-------------------------------------------------\n",
    "## Example - Quantum Dot driven by a laser pulse\n",
    "\n",
    "As a first example let's try to reconstruct one of the lines in figure 3c of [Fux2021] ([Phys. Rev. Lett. 126, 200401 (2021)](https://link.aps.org/doi/10.1103/PhysRevLett.126.200401) / [arXiv:2101.03071](https://arxiv.org/abs/2101.03071)). In this example we compute the time evolution of a quantum dot which is driven with a $\\pi/2$ laser pulse and is strongly coupled to an ohmic bath (spin-boson model). "
   ]
  },
  {
   "cell_type": "markdown",
   "metadata": {},
   "source": [
    "### 1. Hamiltonian for driven quantum dot with bosonic environment\n",
    "We consider a time dependent system Hamiltonian\n",
    "$$ H_{S}(t) = \\frac{\\Delta(t)}{2} \\hat{\\sigma}_z + \\frac{\\Omega(t)}{2} \\hat{\\sigma}_x \\mathrm{,}$$\n",
    "which may describe transitions between the ground and exciton state driven by a resonant laser pulse (in the rotating frame). Here, $\\Delta(t)$ is the detuning of the laser with respect to the transition and $\\Omega(t)$ is proportional to the electric field of the laser.\n",
    "We further include a bosonic environment\n",
    "$$ H_{B} = \\sum_k \\omega_k \\hat{b}^\\dagger_k \\hat{b}_k  \\mathrm{,}$$\n",
    "and an interaction Hamiltonian\n",
    "$$ H_{I} =  \\frac{1}{2} \\hat{\\sigma}_z \\sum_k \\left( g_k \\hat{b}^\\dagger_k + g^*_k \\hat{b}_k \\right) \\mathrm{,}$$\n",
    "where $\\hat{\\sigma}_i$ are the Pauli operators, and the $g_k$ and $\\omega_k$ are such that the spectral density $J(\\omega)$ is\n",
    "$$ J(\\omega) = \\sum_k |g_k|^2 \\delta(\\omega - \\omega_k) = 2 \\, \\alpha \\, \\frac{\\omega^3}{\\omega_\\mathrm{cutoff}^2} \\, \\exp\\left(-\\frac{\\omega^2}{\\omega_\\mathrm{cutoff}^2}\\right) \\mathrm{.} $$\n",
    "Also, let's assume the initial density matrix of the quantum dot is the ground state\n",
    "$$ \\rho_0 = \\begin{pmatrix} 0 & 0 \\\\ 0 & 1 \\end{pmatrix} $$ and the bath is initially at temperature $T$."
   ]
  },
  {
   "cell_type": "markdown",
   "metadata": {},
   "source": [
    "We express all frequencies, temperatures and times in units of 1/ps and ps respectively.\n",
    "\n",
    "* $\\omega_c = 3.04 \\frac{1}{\\mathrm{ps}}$\n",
    "* $\\alpha = 0.126$\n",
    "* $T = 1 K = 0.1309 \\frac{1}{\\mathrm{ps}\\,\\mathrm{k}_B}$"
   ]
  },
  {
   "cell_type": "code",
   "execution_count": 4,
   "metadata": {},
   "outputs": [],
   "source": [
    "omega_cutoff = 3.04 \n",
    "alpha = 0.126\n",
    "temperature = 0.1309\n",
    "initial_state=down_density_matrix"
   ]
  },
  {
   "cell_type": "markdown",
   "metadata": {},
   "source": [
    "### 2. Laser pulse / time dependent system"
   ]
  },
  {
   "cell_type": "markdown",
   "metadata": {},
   "source": [
    "We choose a gaussian laser pulse shape with an adjustable pulse area and pulse width $\\tau$."
   ]
  },
  {
   "cell_type": "code",
   "execution_count": 5,
   "metadata": {},
   "outputs": [],
   "source": [
    "def gaussian_shape(t, area = 1.0, tau = 1.0, t_0 = 0.0):\n",
    "    return area/(tau*np.sqrt(np.pi)) * np.exp(-(t-t_0)**2/(tau**2))"
   ]
  },
  {
   "cell_type": "markdown",
   "metadata": {},
   "source": [
    "Choosing a pulse area of $\\pi/2$, a pulse width of 245 fs and no detuning, we can check the shape of the laser pulse."
   ]
  },
  {
   "cell_type": "code",
   "execution_count": 6,
   "metadata": {},
   "outputs": [
    {
     "data": {
      "text/plain": [
       "<matplotlib.legend.Legend at 0x7f5315c6e710>"
      ]
     },
     "execution_count": 6,
     "metadata": {},
     "output_type": "execute_result"
    },
    {
     "data": {
      "image/png": "[encoded data removed]",
      "text/plain": [
       "<Figure size 432x288 with 1 Axes>"
      ]
     },
     "metadata": {
      "needs_background": "light"
     },
     "output_type": "display_data"
    }
   ],
   "source": [
    "detuning = lambda t: 0.0 * t\n",
    "\n",
    "t = np.linspace(-2,3,100)\n",
    "Omega_t = gaussian_shape(t, area = np.pi/2.0, tau = 0.245)\n",
    "Delta_t = detuning(t)\n",
    "\n",
    "plt.plot(t, Omega_t,label=r\"$\\Omega(t)$\")\n",
    "plt.plot(t, Delta_t,label=r\"$\\Delta(t)$\")\n",
    "plt.xlabel(r\"$t\\,/\\mathrm{ps}$\")\n",
    "plt.ylabel(r\"$\\mathrm{ps}^{-1}$\")\n",
    "plt.legend()"
   ]
  },
  {
   "cell_type": "markdown",
   "metadata": {},
   "source": [
    "### 3. Create time dependent system object"
   ]
  },
  {
   "cell_type": "code",
   "execution_count": 7,
   "metadata": {},
   "outputs": [],
   "source": [
    "def hamiltonian_t(t):\n",
    "    return detuning(t)/2.0 * sigma_z \\\n",
    "           + gaussian_shape(t, area = np.pi/2.0, tau = 0.245)/2.0 * sigma_x\n",
    "\n",
    "system = oqupy.TimeDependentSystem(hamiltonian_t)\n",
    "correlations = oqupy.PowerLawSD(alpha=alpha,\n",
    "                                zeta=3,\n",
    "                                cutoff=omega_cutoff,\n",
    "                                cutoff_type='gaussian',\n",
    "                                temperature=temperature)\n",
    "bath = oqupy.Bath(sigma_z/2.0, correlations)"
   ]
  },
  {
   "cell_type": "markdown",
   "metadata": {},
   "source": [
    "### 4. TEMPO computation"
   ]
  },
  {
   "cell_type": "markdown",
   "metadata": {},
   "source": [
    "With all physical objects defined, we are now ready to compute the dynamics of the quantum dot using TEMPO (using quite rough convergence parameters):"
   ]
  },
  {
   "cell_type": "code",
   "execution_count": 8,
   "metadata": {},
   "outputs": [
    {
     "name": "stdout",
     "output_type": "stream",
     "text": [
      "100.0%   50 of   50 [########################################] 00:00:01\n",
      "Elapsed time: 1.4s\n"
     ]
    }
   ],
   "source": [
    "tempo_parameters = oqupy.TempoParameters(dt=0.1, dkmax=20, epsrel=10**(-4))\n",
    "\n",
    "tempo_sys = oqupy.Tempo(system=system,\n",
    "                        bath=bath,\n",
    "                        initial_state=initial_state,\n",
    "                        start_time=-2.0,\n",
    "                        parameters=tempo_parameters)\n",
    "dynamics = tempo_sys.compute(end_time=3.0)"
   ]
  },
  {
   "cell_type": "markdown",
   "metadata": {},
   "source": [
    "and extract the expectation values $\\langle\\sigma_{xy}\\rangle = \\sqrt{\\langle\\sigma_x\\rangle^2 + \\langle\\sigma_y\\rangle^2}$ for plotting:"
   ]
  },
  {
   "cell_type": "code",
   "execution_count": 9,
   "metadata": {},
   "outputs": [
    {
     "data": {
      "text/plain": [
       "<matplotlib.legend.Legend at 0x7f530c8b5f28>"
      ]
     },
     "execution_count": 9,
     "metadata": {},
     "output_type": "execute_result"
    },
    {
     "data": {
      "image/png": "[encoded data removed]",
      "text/plain": [
       "<Figure size 432x288 with 1 Axes>"
      ]
     },
     "metadata": {
      "needs_background": "light"
     },
     "output_type": "display_data"
    }
   ],
   "source": [
    "t, s_x = dynamics.expectations(sigma_x, real=True)\n",
    "t, s_y = dynamics.expectations(sigma_y, real=True)\n",
    "s_xy = np.sqrt(s_x**2 + s_y**2)\n",
    "plt.plot(t, s_xy, label=r'$\\Delta = 0.0$')\n",
    "plt.xlabel(r'$t\\,\\Omega$')\n",
    "plt.ylabel(r'$<\\sigma_xy>$')\n",
    "plt.ylim((0.0,1.0))\n",
    "plt.legend(loc=4)"
   ]
  },
  {
   "cell_type": "markdown",
   "metadata": {},
   "source": [
    "### 5. Using PT-TEMPO to explore many different laser pulses\n",
    "If we want to do the same computation for a set of different laser pulses (and thus different time dependent system Hamiltonians), we could repeate the above procedure. However, for a large number of different system Hamiltonians this is impractical. In such cases one may instead use the process tensor approach (PT-TEMPO) wherein the bath influence tensors are computed separately from the rest of the network. This produces an object known as the process tensor which may then be used with many different system Hamiltonians at relatively little cost."
   ]
  },
  {
   "cell_type": "code",
   "execution_count": 10,
   "metadata": {},
   "outputs": [
    {
     "name": "stdout",
     "output_type": "stream",
     "text": [
      "100.0%   50 of   50 [########################################] 00:00:01\n",
      "Elapsed time: 1.3s\n"
     ]
    }
   ],
   "source": [
    "tempo_parameters = oqupy.TempoParameters(dt=0.1, dkmax=20, epsrel=10**(-4))\n",
    "\n",
    "process_tensor = oqupy.pt_tempo_compute(bath=bath,\n",
    "                                        start_time=-2.0,\n",
    "                                        end_time=3.0,\n",
    "                                        parameters=tempo_parameters)"
   ]
  },
  {
   "cell_type": "markdown",
   "metadata": {},
   "source": [
    "Given we want to calculate $\\langle\\sigma_{xy}\\rangle(t)$ for 5 different laser pulse detunings, we define a seperate system object for each laser pulse:"
   ]
  },
  {
   "cell_type": "code",
   "execution_count": 11,
   "metadata": {},
   "outputs": [],
   "source": [
    "deltas = [-10.0, -5.0, 0.0, 5.0, 10.0]\n",
    "systems = []\n",
    "for delta in deltas:\n",
    "    # NOTE: omitting \"delta=delta\" in the parameter definition below\n",
    "    #       would lead to all systems having the same detuning.\n",
    "    #       This is a common python pitfall. Check out \n",
    "    #       https://docs.python-guide.org/writing/gotchas/#late-binding-closures\n",
    "    #       for more information on this.\n",
    "    def hamiltonian_t(t, delta=delta): \n",
    "        return delta/2.0 * sigma_z \\\n",
    "            + gaussian_shape(t, area = np.pi/2.0, tau = 0.245)/2.0 * sigma_x \n",
    "    system = oqupy.TimeDependentSystem(hamiltonian_t)\n",
    "    systems.append(system)"
   ]
  },
  {
   "cell_type": "markdown",
   "metadata": {},
   "source": [
    "We can then use the process tensor to compute the dynamics for each laser pulse"
   ]
  },
  {
   "cell_type": "code",
   "execution_count": 12,
   "metadata": {},
   "outputs": [
    {
     "name": "stdout",
     "output_type": "stream",
     "text": [
      "..... done.\n"
     ]
    }
   ],
   "source": [
    "s_xy_list = []\n",
    "t_list = []\n",
    "for system in systems:\n",
    "    dynamics = oqupy.compute_dynamics(\n",
    "        process_tensor=process_tensor,\n",
    "        system=system,\n",
    "        initial_state=initial_state,\n",
    "        start_time=-2.0)\n",
    "    t, s_x = dynamics.expectations(sigma_x, real=True)\n",
    "    _, s_y = dynamics.expectations(sigma_y, real=True)\n",
    "    s_xy = np.sqrt(s_x**2 + s_y**2)\n",
    "    s_xy_list.append(s_xy)\n",
    "    t_list.append(t)\n",
    "    print(\".\", end=\"\", flush=True)\n",
    "print(\" done.\", flush=True)"
   ]
  },
  {
   "cell_type": "markdown",
   "metadata": {},
   "source": [
    "and plot $\\langle\\sigma_{xy}\\rangle(t)$ for each:"
   ]
  },
  {
   "cell_type": "code",
   "execution_count": 13,
   "metadata": {},
   "outputs": [
    {
     "data": {
      "text/plain": [
       "<matplotlib.legend.Legend at 0x7f530c7e8588>"
      ]
     },
     "execution_count": 13,
     "metadata": {},
     "output_type": "execute_result"
    },
    {
     "data": {
      "image/png": "[encoded data removed]",
      "text/plain": [
       "<Figure size 432x288 with 1 Axes>"
      ]
     },
     "metadata": {
      "needs_background": "light"
     },
     "output_type": "display_data"
    }
   ],
   "source": [
    "for t, s_xy, delta in zip(t_list, s_xy_list, deltas):\n",
    "    plt.plot(t, s_xy, label=r\"$\\Delta = $\"+f\"{delta:0.1f}\")\n",
    "    plt.xlabel(r'$t/$ps')\n",
    "    plt.ylabel(r'$<\\sigma_xy>$')\n",
    "plt.ylim((0.0,1.0))\n",
    "plt.legend()"
   ]
  },
  {
   "cell_type": "code",
   "execution_count": null,
   "metadata": {},
   "outputs": [],
   "source": []
  }
 ],
 "metadata": {
  "interpreter": {
   "hash": "3306e98808c0871e8a1685f50cc307ae5b4a4a013844b10634a4efe89132c3fe"
  },
  "kernelspec": {
   "display_name": "Python 3",
   "language": "python",
   "name": "python3"
  },
  "language_info": {
   "codemirror_mode": {
    "name": "ipython",
    "version": 3
   },
   "file_extension": ".py",
   "mimetype": "text/x-python",
   "name": "python",
   "nbconvert_exporter": "python",
   "pygments_lexer": "ipython3",
   "version": "3.6.13"
  },
  "widgets": {
   "application/vnd.jupyter.widget-state+json": {
    "state": {},
    "version_major": 1,
    "version_minor": 0
   }
  }
 },
 "nbformat": 4,
 "nbformat_minor": 2
}
