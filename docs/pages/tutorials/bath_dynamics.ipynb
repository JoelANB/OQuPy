{
 "cells": [
  {
   "cell_type": "markdown",
   "id": "d295a8ae-fdbb-4151-bf34-92f2b74e34d8",
   "metadata": {
    "tags": []
   },
   "source": [
    "# Environment Dynamics\n",
    "\n",
    "An example on how to compute the dynamics of a gaussian bosonic environment using the OQuPy package.\n",
    "\n",
    "- [launch binder](https://mybinder.org/v2/gh/tempoCollaboration/OQuPy/HEAD?labpath=tutorials%2Fbath_dynamics.ipynb) (runs in browser),\n",
    "- [download the jupyter file](https://raw.githubusercontent.com/tempoCollaboration/OQuPy/main/tutorials/bath_dynamics.ipynb), or\n",
    "- read through the text below and code along."
   ]
  },
  {
   "cell_type": "markdown",
   "id": "12128a31",
   "metadata": {},
   "source": [
    "First let's import the necessary packages"
   ]
  },
  {
   "cell_type": "code",
   "execution_count": 2,
   "id": "557f8f8b-10c1-4797-9092-6062dfdccf73",
   "metadata": {
    "tags": []
   },
   "outputs": [],
   "source": [
    "import sys\n",
    "sys.path.insert(0,'..')\n",
    "import oqupy\n",
    "import matplotlib.pyplot as plt\n",
    "import numpy as np"
   ]
  },
  {
   "cell_type": "markdown",
   "id": "edf53a96-c6c8-482e-aea6-ed126754652a",
   "metadata": {
    "tags": []
   },
   "source": [
    "and define the necessary spin matrices for convenience"
   ]
  },
  {
   "cell_type": "code",
   "execution_count": 3,
   "id": "aad71653-f73f-4c3b-8910-4e10b57bbf2e",
   "metadata": {
    "tags": []
   },
   "outputs": [],
   "source": [
    "spin_down = oqupy.operators.spin_dm(\"down\")\n",
    "s_z = 0.5*oqupy.operators.sigma(\"z\")\n",
    "s_x = 0.5*oqupy.operators.sigma(\"x\")"
   ]
  },
  {
   "cell_type": "markdown",
   "id": "acdfcb0f-004e-43ab-ab6a-7b3e8c3e5e3f",
   "metadata": {},
   "source": [
    "## Example - Heat transfer in a biased spin-boson model\n",
    "Let's try and recreate a line cut of Figure 2 from [Gribben2021] ([arXiv:2106.04212](https://arxiv.org/abs/2106.04212)). This tells us how much heat has been emitted into or absorbed from the bath by the system and how this transfer is distributed over the bath modes."
   ]
  },
  {
   "cell_type": "markdown",
   "id": "90641216-6ff9-434f-b21d-6870ccb3254f",
   "metadata": {},
   "source": [
    "### 1. Hamiltonian - Biased spin-boson model\n",
    "The system Hamiltonian we consider is:\n",
    "$$H_S = \\epsilon s_z + \\Omega s_x$$\n",
    "describing a spin-$\\frac{1}{2}$ particle with energy splitting $\\epsilon$ and transition frequency $\\Omega$. Here $s_i = \\sigma_i/2$ where $\\sigma_i$ are the Pauli matrices.\n",
    "\n",
    "The interaction Hamiltonian is given by:\n",
    "$$H_I = {s_z} \\sum_k g_k \\left(a_k+a_k^\\dagger\\right),$$\n",
    "and the bath Hamiltonian by:\n",
    "$$H_B = \\sum_k \\omega_k a_k^\\dagger a_k.$$\n",
    "This describes a linear coupling to bosons of frequency $\\omega_k$ with strength $g_k$. These bosons are described by the ladder operators $a_k$ and $a^\\dagger_k$ which satisfy the canonical commutation relations:\n",
    "$$ \\left[a_k,a_{k'}^\\dagger\\right]=\\delta_{kk'},$$\n",
    "$$ \\left[a_k,a_{k'}\\right]=\\left[a_k^\\dagger,a_{k'}^\\dagger\\right] = 0.$$\n",
    "We can characterise the bath entirely by its spectral density:\n",
    "$$ J(\\omega) = \\sum_k |g_k|^2 \\delta(\\omega - \\omega_k) = 2 \\, \\alpha \\, \\omega \\, \\exp\\left(-\\frac{\\omega}{\\omega_\\mathrm{cutoff}}\\right) \\mathrm{,} $$\n",
    "where we have decided on an Ohmic spectral density with dimensionless coupling strength $\\alpha$ and high-frequency cutoff $\\omega_c$.\n",
    "\n",
    "Also, let's assume the initial density matrix of the spin is the down state\n",
    "$$ \\rho_S(0) = \\begin{pmatrix} 0 & 0 \\\\ 0 & 1 \\end{pmatrix} $$ and the bath is initially in thermal equilibrium at $T=\\Omega$.\n",
    "\n",
    "For the rest of the parameters we choose to set:\n",
    "\n",
    "* $\\epsilon = 2.0 \\Omega$\n",
    "* $\\omega_c = 10.0 \\Omega$\n",
    "* $\\alpha = 0.05$"
   ]
  },
  {
   "cell_type": "markdown",
   "id": "9af12897-6c75-434f-ad92-57472749e29f",
   "metadata": {},
   "source": [
    "### 2. Building the process tensor\n",
    "\n",
    "The setting up of the system and general running of TEMPO/PT-TEMPO has been covered in detail in the previous tutorials so for now let us go right ahead and build a process tensor for this spectral density. Here we'll use much rougher convergence parameters than in the paper, the qualitative result is not really changed though."
   ]
  },
  {
   "cell_type": "code",
   "execution_count": 4,
   "id": "46477052-8b66-4441-8529-6e8d9e2a191c",
   "metadata": {},
   "outputs": [
    {
     "name": "stdout",
     "output_type": "stream",
     "text": [
      "--> PT-TEMPO computation:\n",
      "100.0%  100 of  100 [########################################] 00:00:00\n",
      "Elapsed time: 0.8s\n"
     ]
    }
   ],
   "source": [
    "Omega = 1\n",
    "alpha = 0.05\n",
    "w_cutoff = 10 * Omega\n",
    "epsilon = 2 * Omega\n",
    "tcut = 2.0\n",
    "epsrel = 1e-5\n",
    "final_t = 20\n",
    "delta_t = 0.2\n",
    "initial_state = spin_down\n",
    "corr = oqupy.PowerLawSD(alpha, 1, w_cutoff, temperature = 1)\n",
    "pars = oqupy.TempoParameters(delta_t, tcut, epsrel)\n",
    "system = oqupy.System(Omega*s_x + epsilon*s_z)\n",
    "bath = oqupy.Bath(s_z, corr)\n",
    "pt = oqupy.PtTempo(bath, 0.0, final_t, pars)\n",
    "pt = pt.get_process_tensor(progress_type='bar')"
   ]
  },
  {
   "cell_type": "markdown",
   "id": "4b1b995d-57ae-4c33-b73e-ef74c9a187c7",
   "metadata": {},
   "source": [
    "Now as we saw previously the process tensor can readily be used to calculate system dynamics, for example let's look at how the density matrix elements evolve."
   ]
  },
  {
   "cell_type": "code",
   "execution_count": 5,
   "id": "b9b0eab6-f1e0-4a8d-b10d-cf05f63a94fb",
   "metadata": {},
   "outputs": [
    {
     "name": "stdout",
     "output_type": "stream",
     "text": [
      "--> Compute dynamics:\n",
      "100.0%  100 of  100 [########################################] 00:00:00\n",
      "Elapsed time: 0.1s\n"
     ]
    },
    {
     "data": {
      "text/plain": [
       "<matplotlib.legend.Legend at 0x7fd9cf197fd0>"
      ]
     },
     "execution_count": 5,
     "metadata": {},
     "output_type": "execute_result"
    },
    {
     "data": {
      "image/png": "[encoded data removed]",
      "text/plain": [
       "<Figure size 432x288 with 1 Axes>"
      ]
     },
     "metadata": {
      "needs_background": "light"
     },
     "output_type": "display_data"
    }
   ],
   "source": [
    "dyns = oqupy.contractions.compute_dynamics(\n",
    "    system=system,\n",
    "    initial_state=initial_state,\n",
    "    process_tensor=pt)\n",
    "times, states = dyns.times, dyns.states\n",
    "plt.plot(times, states[:,0,0].real, label=r'$\\rho_{00}$')\n",
    "plt.plot(times, states[:,0,1].real, label=r'$\\Re[\\rho_{01}]$')\n",
    "plt.plot(times, states[:,0,1].imag, label=r'$\\Im[\\rho_{01}]$')\n",
    "plt.xlabel(r\"$\\Omega t$\")\n",
    "plt.ylabel(r\"Amplitude\")\n",
    "plt.legend()"
   ]
  },
  {
   "cell_type": "markdown",
   "id": "095087e0-859f-45fa-a95a-3c741398ba1b",
   "metadata": {},
   "source": [
    "Already the process tensor tells us everything we could want to know about the system but actually we can infer a lot about how the bath behaves as well.\n",
    "\n",
    "### 3. Bath dynamics\n",
    "\n",
    "In [Gribben2021] ([arXiv:2106.04212](https://arxiv.org/abs/2106.04212)) we can see that for linearly coupled Gaussian environments the bath dynamics can be calculated through relatively simple transformations of system correlation functions. For example the change in energy of mode $k$ can be expressed as\n",
    "\n",
    "$$ \\omega_k\\left\\langle a_k^\\dagger (t) a_k (t)-a_k^\\dagger (0) a_k (0) \\right\\rangle = \\omega_k g_k^2 \\int_0^t dt' \\int_0^t dt'' \\left\\langle s_z(t')s_z(t'')\\right\\rangle F(\\omega_k, t', t'', T), $$\n",
    "with\n",
    "$$ F(\\omega, t', t'', T) := \\cos[\\omega (t'-t'')]-i \\sin[\\omega(t'-t'')]\\coth(\\omega /2T). $$\n",
    "\n",
    "However we typically take the continuum limit in which case the coupling to any single mode becomes infinitesimal and it makes more sense to talk about how heat is exchanged within a band of modes $(\\omega-\\delta/2,\\omega+\\delta/2)$. This gives us the expression:\n",
    "\n",
    "$$ \\Delta Q (\\omega,t) = \\int_{\\omega-\\delta/2}^{\\omega+\\delta/2}d\\omega' \\omega' J(\\omega') \\int_0^t dt' \\int_0^t dt'' \\left\\langle s_z(t')s_z(t'')\\right\\rangle F(\\omega', t', t'', T),$$\n",
    "$$ \\Delta Q (\\omega,t) \\approx  \\omega J(\\omega)\\delta \\int_0^t dt' \\int_0^t dt'' \\left\\langle s_z(t')s_z(t'')\\right\\rangle F(\\omega', t', t'', T),$$\n",
    "where $\\left\\langle s_z(t')s_z(t'')\\right\\rangle =  \\mathrm{Tr} [s_z(t')s_z(t'')\\rho]$ and we have approximated the integrand as constant over the bandwidth. The validity of this is reliant on the system relaxing much faster than the timescale set by $\\delta^{-1}$.\n",
    "\n",
    "To be compatible with PT-TEMPO we must now discretise this expression according into timesteps, a rough discretisation can be expressed as:\n",
    "$$\\Delta Q (\\omega,t_N) \\approx  \\omega J(\\omega)\\delta \\sum_{k=0}^{N-1} \\sum_{k'=0}^{N-1}  \\left\\langle s_z(t_k)s_z(t_{k'})\\right\\rangle F(\\omega,t_k,t_{k'},T) \\, dt^2.$$\n",
    "Here $dt$ is the same timestep set as the convergence parameter in PT-TEMPO and we have defined timesteps $t_k = k dt$. In practice this discretisation breaks down at large $\\omega$, the actual implementation does something slightly more sophisticated which will be detailed elsewhere.\n",
    "\n",
    "To calculate this in OQuPy we begin by initialising a `TwoTimeBathCorrelations` object from the `bath_dynamics` module:"
   ]
  },
  {
   "cell_type": "code",
   "execution_count": 6,
   "id": "51429960-28a3-47b8-8eb2-f92611294daa",
   "metadata": {},
   "outputs": [],
   "source": [
    "bath_corr = oqupy.bath_dynamics.TwoTimeBathCorrelations(system, bath, pt, initial_state)"
   ]
  },
  {
   "cell_type": "markdown",
   "id": "a6111f16-bd3f-4645-875e-197f8af44394",
   "metadata": {},
   "source": [
    "As inputs this requires everything necessary to calculate the system correlation functions:\n",
    "* `system`: the system Hamiltonian.\n",
    "* `bath`: characterises bath containing information about its spectral density and temperature.\n",
    "* `process_tensor`: the process tensor which when combined with the system Hamiltonian can be used to calculate any system correlation function.\n",
    "* `initial_state`: the initial system density matrix which must be either built into the process tensor or input here.\n",
    "\n",
    "We can now use the method `occupation` to calculate the energy dynamics of a particular mode by multiplying the output by its frequency, in this case let's look at `w = Omega` and a bandwidth of `delta = 0.1 * Omega`:"
   ]
  },
  {
   "cell_type": "code",
   "execution_count": 7,
   "id": "58c0cbf3-b214-4070-99e4-b3b18b844a8e",
   "metadata": {},
   "outputs": [
    {
     "name": "stdout",
     "output_type": "stream",
     "text": [
      "--> Compute correlations:\n",
      "100.0%  100 of  100 [########################################] 00:00:07\n",
      "Elapsed time: 7.7s\n"
     ]
    },
    {
     "data": {
      "text/plain": [
       "Text(0, 0.5, '$\\\\Delta Q ( \\\\Omega, t)$')"
      ]
     },
     "execution_count": 7,
     "metadata": {},
     "output_type": "execute_result"
    },
    {
     "data": {
      "image/png": "[encoded data removed]",
      "text/plain": [
       "<Figure size 432x288 with 1 Axes>"
      ]
     },
     "metadata": {
      "needs_background": "light"
     },
     "output_type": "display_data"
    }
   ],
   "source": [
    "w = Omega\n",
    "delta = 0.1 * Omega\n",
    "tlist, occ = bath_corr.occupation(w, delta, change_only = True)\n",
    "energy = w * occ\n",
    "plt.plot(tlist,energy)\n",
    "plt.xlabel(r'$\\Omega t$')\n",
    "plt.ylabel(r'$\\Delta Q ( \\Omega, t)$')"
   ]
  },
  {
   "cell_type": "markdown",
   "id": "3d876074-7492-4f05-b2fb-70372946ba2b",
   "metadata": {},
   "source": [
    "...that took quite a while. From the expression for $\\Delta Q$ is would seem that to calculate the change in energy of the bath up to time $t_N$ requires the $N^2$ two-time system correlation functions. In fact we only need the $N(N+1)/2$ time-ordered correlation functions due to $\\left\\langle s_z(t_{k'})s_z(t_{k})\\right\\rangle = \\left\\langle s_z(t_{k})s_z(t_{k'})\\right\\rangle^*$. However, this can still be quite time-consuming to calculate, but let's see what happens if we want the energy of another mode now, let's say `w = 2 * Omega`"
   ]
  },
  {
   "cell_type": "code",
   "execution_count": null,
   "id": "c86048d1-2212-4fc6-8ef0-632ea2639670",
   "metadata": {},
   "outputs": [],
   "source": [
    "w = 2 * Omega\n",
    "delta = 0.1 * Omega\n",
    "tlist, occ = bath_corr.occupation(w, delta, change_only = True)\n",
    "energy = w * occ\n",
    "plt.plot(tlist, energy)\n",
    "plt.xlabel(r'$\\Omega t$')\n",
    "plt.ylabel(r'$\\Delta Q (2 \\Omega, t)$')"
   ]
  },
  {
   "cell_type": "markdown",
   "id": "9325b043-269f-4a6b-a1f6-b74037aa6d1c",
   "metadata": {},
   "source": [
    "Much quicker! This is because the same set of system correlation functions can be used to compute any bath correlation function $\\langle \\alpha_2(t_2)\\alpha_1(t_1)\\rangle$ where $\\alpha_2, \\alpha_1 \\in \\{a_k^\\dagger,a_k\\} $ and $t_1,t_2 < t_N$. So now we see the logic of having a bath_dynamics object, it allows us to conveniently store the calculated system correlation functions and re-use them as we like :)\n",
    "\n",
    "### 4. Recreating Figure 2\n",
    "\n",
    "Now we have all the tools necessary to recreate the study of total heat exchanged as a function of $\\epsilon$. However, this would take a while as we would need a new set of correlation functions for each $\\epsilon$. Here we will just look at the case where $\\epsilon = 2\\Omega$. We are only interested in the total heat exchanged over the process so simply look at the final value of $\\Delta Q$."
   ]
  },
  {
   "cell_type": "code",
   "execution_count": null,
   "id": "96b8d7aa-c279-4107-85c5-8ebfb01476ce",
   "metadata": {},
   "outputs": [],
   "source": [
    "heat_list = []\n",
    "freq_list = np.arange(1, 10, 0.1)\n",
    "for w in freq_list:\n",
    "    tlist, occ = bath_corr.occupation(w, 0.1, True)\n",
    "    heat_list.append(w * occ[-1])\n",
    "plt.plot(freq_list, heat_list)\n",
    "plt.xlabel(r\"Mode Frequency$/\\Omega$\")\n",
    "plt.ylabel(r\"Heat Exchanged$/\\Omega$\")"
   ]
  },
  {
   "cell_type": "markdown",
   "id": "ca545275-50dd-4c67-912c-b746cba6779a",
   "metadata": {},
   "source": [
    "This is highly oscillatory, perhaps unsurprising from the dynamics we generated but still it would be nice to smooth this out. We expect the result to eventually equilibrate but with such a small bandwidth this will take a while, instead we simply period-average the result. The period at which each mode oscillates is $T(\\omega)=2\\pi/\\omega$ so we average over the last $n$ timesteps where $(n+1) dt \\geq T(\\omega) > n dt$."
   ]
  },
  {
   "cell_type": "code",
   "execution_count": null,
   "id": "3ce24ca0-866a-45b6-89d0-8ed8e4994c56",
   "metadata": {},
   "outputs": [],
   "source": [
    "heat_list = []\n",
    "freq_list = np.arange(0.05, 10, 0.1)\n",
    "for w in freq_list:\n",
    "    tlist, occ = bath_corr.occupation(w, 0.1, True)\n",
    "    sel = tlist > (tlist[-1] - 2 * np.pi/w)\n",
    "    energy = occ * w\n",
    "    period_averaged_energy = np.mean(energy[sel])\n",
    "    heat_list.append(period_averaged_energy)\n",
    "plt.plot(freq_list, heat_list)\n",
    "plt.xlabel(r\"Mode Frequency$/\\Omega$\")\n",
    "plt.ylabel(r\"Heat Exchanged$/\\Omega$\")"
   ]
  },
  {
   "cell_type": "markdown",
   "id": "37980eff-caf4-4bd2-bed7-cca871611f81",
   "metadata": {},
   "source": [
    "Here, as in the paper, we see heat is absorbed by the system from the band of the modes in the vicinity of $\\tilde{\\Omega}=\\sqrt{\\Omega^2+\\epsilon^2}$. This seems sensible as in a Markovian theory the system would sample the environment purely at its eigensplitting $\\tilde{\\Omega}$."
   ]
  },
  {
   "cell_type": "markdown",
   "id": "8793c039-6a4c-4d4d-9289-1e0ffeff96a7",
   "metadata": {},
   "source": [
    "-------------------------------------------------"
   ]
  }
 ],
 "metadata": {
  "interpreter": {
   "hash": "56674a1249193ed385a20db9ba6c6497b0cb98d98f01f014399e91d8567384eb"
  },
  "kernelspec": {
   "display_name": "oqupyPR",
   "language": "python",
   "name": "oqupypr"
  },
  "language_info": {
   "codemirror_mode": {
    "name": "ipython",
    "version": 3
   },
   "file_extension": ".py",
   "mimetype": "text/x-python",
   "name": "python",
   "nbconvert_exporter": "python",
   "pygments_lexer": "ipython3",
   "version": "3.6.15"
  }
 },
 "nbformat": 4,
 "nbformat_minor": 5
}
