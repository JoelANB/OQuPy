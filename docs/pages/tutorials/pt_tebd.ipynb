{
 "cells": [
  {
   "cell_type": "markdown",
   "metadata": {},
   "source": [
    "# Chains and PT-TEBD\n",
    "\n",
    "An introduction on how to use the OQuPy package to compute the dynamics of a chain of open quantum systems using the process tensor approach to time evolving block decimation (PT-TEBD). We illustrate this by applying PT-TEBD to a 5-site XYZ Heisenberg spin chain. This method and example is explained in detail in [Fux2022].\n",
    "\n",
    "**[Fux2022]**\n",
    "G. E. Fux, D. Kilda, B. W. Lovett, and J. Keeling, *Thermalization of a\n",
    "spin chain strongly coupled to its environment*, arXiv:2201.05529 (2022).\n",
    "\n",
    "- [launch binder](https://mybinder.org/v2/gh/tempoCollaboration/OQuPy/HEAD?labpath=tutorials%2Fpt_tebd.ipynb) (runs in browser),\n",
    "- [download the jupyter file](https://raw.githubusercontent.com/tempoCollaboration/OQuPy/main/tutorials/pt_tebd.ipynb), or\n",
    "- read through the text below and code along.\n"
   ]
  },
  {
   "cell_type": "markdown",
   "metadata": {},
   "source": [
    "**Contents:**\n",
    "\n",
    "* Example - Heisenberg spin chain\n",
    "    * 1. Closed Heisenberg spin chain\n",
    "    * 2. Open Heisenberg spin chain"
   ]
  },
  {
   "cell_type": "markdown",
   "metadata": {},
   "source": [
    "First, let's import OQuPy and some other packages we are going to use"
   ]
  },
  {
   "cell_type": "code",
   "execution_count": 1,
   "metadata": {},
   "outputs": [],
   "source": [
    "import sys\n",
    "sys.path.insert(0,'..')\n",
    "\n",
    "import oqupy\n",
    "import numpy as np\n",
    "import matplotlib.pyplot as plt"
   ]
  },
  {
   "cell_type": "markdown",
   "metadata": {},
   "source": [
    "and check what version of tempo we are using."
   ]
  },
  {
   "cell_type": "code",
   "execution_count": 2,
   "metadata": {},
   "outputs": [
    {
     "data": {
      "text/plain": [
       "'0.4.0'"
      ]
     },
     "execution_count": 2,
     "metadata": {},
     "output_type": "execute_result"
    }
   ],
   "source": [
    "oqupy.__version__"
   ]
  },
  {
   "cell_type": "markdown",
   "metadata": {},
   "source": [
    "Let's also import some shorthands for the spin-1/2 operators and and density matrices."
   ]
  },
  {
   "cell_type": "code",
   "execution_count": 3,
   "metadata": {},
   "outputs": [],
   "source": [
    "sx = 0.5 * oqupy.operators.sigma(\"x\")\n",
    "sy = 0.5 * oqupy.operators.sigma(\"y\")\n",
    "sz = 0.5 * oqupy.operators.sigma(\"z\")\n",
    "up_dm = oqupy.operators.spin_dm(\"z+\")\n",
    "down_dm = oqupy.operators.spin_dm(\"z-\")\n",
    "mixed_dm = oqupy.operators.spin_dm(\"mixed\")"
   ]
  },
  {
   "cell_type": "markdown",
   "metadata": {},
   "source": [
    "------------------------------------\n",
    "## Example - Heisenberg spin chain"
   ]
  },
  {
   "cell_type": "markdown",
   "metadata": {},
   "source": [
    "### 1. Closed Heisenberg spin chain\n",
    "\n",
    "Let's calculate the dynamics of a short XYZ Heisenberg spin chain with the same parameters as in [Fux2022]. Before we include any environment coupling we first consider the closed chain with the Hamiltonian\n",
    "\n",
    "$$ H_\\mathrm{chain} = \\sum_{n=1}^N \\epsilon s_n^z\n",
    "    + \\sum_{n=1}^{N-1} \\sum_{\\gamma \\in \\{x,y,z\\}}\n",
    "        J^\\gamma s_{n}^\\gamma s_{n+1}^\\gamma \\,\\mathrm{,}$$\n",
    "\n",
    "with $N=5$, $\\epsilon=1.0$, $J^x = 1.3$, $J^y = 0.7$, and $J^z = 1.2$."
   ]
  },
  {
   "cell_type": "code",
   "execution_count": 4,
   "metadata": {},
   "outputs": [],
   "source": [
    "N = 5\n",
    "epsilon = 1.0\n",
    "J = [1.3, 0.7, 1.2]\n",
    "\n",
    "system_chain = oqupy.SystemChain(hilbert_space_dimensions=[2]*N)\n",
    "\n",
    "for n in range(N):\n",
    "    system_chain.add_site_hamiltonian(\n",
    "        site=n,\n",
    "        hamiltonian=epsilon*sz)\n",
    "\n",
    "for n in range(N-1):\n",
    "    for J_gamma, s_gamma in zip(J, [sx, sy, sz]):\n",
    "        system_chain.add_nn_hamiltonian(\n",
    "            site=n,\n",
    "            hamiltonian_l=J_gamma*s_gamma,\n",
    "            hamiltonian_r=s_gamma)"
   ]
  },
  {
   "cell_type": "markdown",
   "metadata": {},
   "source": [
    "We begin with an initial chain state where the first spin is 'up' (in the $z$-basis) and all the others are 'down'.\n",
    "$$\\tilde{\\rho}^A_\\mathrm{chain} = | \\uparrow \\rangle \\langle \\uparrow |\n",
    "    \\otimes | \\downarrow \\rangle \\langle \\downarrow |\n",
    "    \\otimes | \\downarrow \\rangle \\langle \\downarrow |\n",
    "    \\otimes | \\downarrow \\rangle \\langle \\downarrow |\n",
    "    \\otimes | \\downarrow \\rangle \\langle \\downarrow | $$"
   ]
  },
  {
   "cell_type": "code",
   "execution_count": 5,
   "metadata": {},
   "outputs": [],
   "source": [
    "initial_augmented_mps_A = oqupy.AugmentedMPS([up_dm, down_dm, down_dm, down_dm, down_dm])"
   ]
  },
  {
   "cell_type": "markdown",
   "metadata": {},
   "source": [
    "To run a PT-TEBD simulation we need to choose three computation parameters:\n",
    "\n",
    "1. The time step length `dt`,\n",
    "2. The Trotterization order `order` (currently only `1` and `2` are implemented), and\n",
    "3. The relative singular value truncation tolerance `epsrel`.\n",
    "\n",
    "We describe details of the computation parameters in the supplemental material of [Fux2022]."
   ]
  },
  {
   "cell_type": "code",
   "execution_count": 6,
   "metadata": {},
   "outputs": [],
   "source": [
    "pt_tebd_params = oqupy.PtTebdParameters(\n",
    "    dt=0.2,\n",
    "    order=2,\n",
    "    epsrel=1.0e-6)"
   ]
  },
  {
   "cell_type": "markdown",
   "metadata": {},
   "source": [
    "Next, we insert all this information into a new `PtTebd` object to prepare the simulation. We also specify a list of process tensors that represent the environment of each site of the chain. Because in this first example we don't have any environment, we specify all to be `None`. The `dynamics_sites` parameter allows us to specify a list of sites whose reduced density matrix shall be recorded during the propagation."
   ]
  },
  {
   "cell_type": "code",
   "execution_count": 7,
   "metadata": {},
   "outputs": [],
   "source": [
    "pt_tebd_closed = oqupy.PtTebd(\n",
    "    initial_augmented_mps=initial_augmented_mps_A,\n",
    "    system_chain=system_chain,\n",
    "    process_tensors=[None, None, None, None, None],\n",
    "    parameters=pt_tebd_params,\n",
    "    dynamics_sites=[0, 1, 2, 3, 4])"
   ]
  },
  {
   "cell_type": "markdown",
   "metadata": {},
   "source": [
    "We can then go ahead and set off the actual computation. Let's (for the sake of computation time) be modest and say we are only interested in 20 time steps."
   ]
  },
  {
   "cell_type": "code",
   "execution_count": 8,
   "metadata": {},
   "outputs": [
    {
     "name": "stdout",
     "output_type": "stream",
     "text": [
      "PT-TEBD computation (closed spin chain):\n",
      "--> PT-TEBD computation:\n",
      "100.0%   20 of   20 [########################################] 00:00:00\n",
      "Elapsed time: 0.4s\n"
     ]
    }
   ],
   "source": [
    "num_steps = 20\n",
    "print(\"PT-TEBD computation (closed spin chain):\")\n",
    "results_closed = pt_tebd_closed.compute(num_steps, progress_type=\"bar\")"
   ]
  },
  {
   "cell_type": "markdown",
   "metadata": {},
   "source": [
    "The computation returns a results dictionary which in addition to the the dynamics of the before specified sites carries all sorts of other information about the propagation (such as the total spin chain norm, the bond dimensions of the augmented MPS, etc.)"
   ]
  },
  {
   "cell_type": "code",
   "execution_count": 9,
   "metadata": {},
   "outputs": [
    {
     "name": "stdout",
     "output_type": "stream",
     "text": [
      "Keys of the results dictionary: dict_keys(['time', 'norm', 'bond_dimensions', 'dynamics', 'pt_bond_dimensions'])\n",
      "Keys of the dynamics results: dict_keys([0, 1, 2, 3, 4])\n"
     ]
    }
   ],
   "source": [
    "print(f\"Keys of the results dictionary: {results_closed.keys()}\")\n",
    "print(f\"Keys of the dynamics results: {results_closed['dynamics'].keys()}\")"
   ]
  },
  {
   "cell_type": "markdown",
   "metadata": {},
   "source": [
    "We can use the dynamics results to then compute the evolution of the $s^z_n$ observables."
   ]
  },
  {
   "cell_type": "code",
   "execution_count": 10,
   "metadata": {},
   "outputs": [
    {
     "data": {
      "text/plain": [
       "<matplotlib.legend.Legend at 0x7f2fb90f9840>"
      ]
     },
     "execution_count": 10,
     "metadata": {},
     "output_type": "execute_result"
    },
    {
     "data": {
      "image/png": "[encoded data removed]",
      "text/plain": [
       "<Figure size 640x480 with 1 Axes>"
      ]
     },
     "metadata": {},
     "output_type": "display_data"
    }
   ],
   "source": [
    "for site, dynamics in results_closed['dynamics'].items():\n",
    "    plt.plot(\n",
    "        *dynamics.expectations(sz, real=True),\n",
    "        color=f\"C{site}\", linestyle=\"solid\",\n",
    "        label=f\"$\\\\langle s_{site}^z \\\\rangle$\")\n",
    "plt.legend()"
   ]
  },
  {
   "cell_type": "markdown",
   "metadata": {},
   "source": [
    "Yay! We can observe how the excitation travels along the chain."
   ]
  },
  {
   "cell_type": "markdown",
   "metadata": {},
   "source": [
    "### 2. Open Heisenberg spin chain\n",
    "\n",
    "Now, let's add a strongly coupled and structured environment to the chain. We will couple a ohmic bosonic environment to the first spin through the environment Hamiltonian\n",
    "$$ H^E = \\sum_{k}^{\\infty} s_1^y \\left( g_k b_k^{\\dagger} + h.c \\right) + \\omega_k b_k^{\\dagger} b_k \\,\\mathrm{,}$$\n",
    "where $b_k^{(\\dagger)}$ are the bosonic lowering (raising) operators, and $s_1^y$ is the $y$ spin operator of the first site.\n",
    "The coupling constants $g_k$ and frequencies $\\omega_k$ are determined by the spectral density\n",
    "$$ J(\\omega) = \\sum_{k}^{\\infty} |g_k|^2 \\delta(\\omega - \\omega_k) = 2 \\alpha \\, \\omega \\, e^{-\\frac{\\omega}{\\omega_c}} \\,\\mathrm{.}$$\n",
    "\n",
    "We choose the values $\\alpha=0.32$ and $\\omega_c=4.0$, and specify that the bosonic environment is initially at temperature $T=1.6$."
   ]
  },
  {
   "cell_type": "code",
   "execution_count": 11,
   "metadata": {},
   "outputs": [],
   "source": [
    "alpha = 0.32\n",
    "omega_cutoff = 4.0\n",
    "temperature = 1.6\n",
    "\n",
    "correlations = oqupy.PowerLawSD(\n",
    "    alpha=alpha,\n",
    "    zeta=1,\n",
    "    cutoff=omega_cutoff,\n",
    "    cutoff_type='exponential',\n",
    "    temperature=temperature)\n",
    "bath = oqupy.Bath(sy, correlations)"
   ]
  },
  {
   "cell_type": "markdown",
   "metadata": {},
   "source": [
    "For the process tensor approach to TEBD, we first need to compute the process tensors of the environments we wish to add to the TEBD evolution. For this we choose suitable parameters and carry out the computation (see Tutorial 02 - Time dependence and PT-TEMPO)."
   ]
  },
  {
   "cell_type": "code",
   "execution_count": 12,
   "metadata": {},
   "outputs": [
    {
     "name": "stderr",
     "output_type": "stream",
     "text": [
      "/home/pip/documents/saints/phd/tempo/oqupyPR/tutorials/../oqupy/tempo.py:969: UserWarning: Assuming integer tcut is a timestep (memory time tcut * dt). If you did not intend this, pass a float instead.\n",
      "  warnings.warn(INT_TCUT_WARNING_MSG, UserWarning)\n"
     ]
    }
   ],
   "source": [
    "tempo_parameters = oqupy.TempoParameters(\n",
    "    dt=pt_tebd_params.dt,\n",
    "    tcut=40,\n",
    "    epsrel=1.0e-5)"
   ]
  },
  {
   "cell_type": "code",
   "execution_count": 13,
   "metadata": {},
   "outputs": [
    {
     "name": "stdout",
     "output_type": "stream",
     "text": [
      "Process tensor (PT) computation:\n",
      "--> PT-TEMPO computation:\n",
      "100.0%   20 of   20 [########################################] 00:00:00\n",
      "Elapsed time: 0.1s\n"
     ]
    }
   ],
   "source": [
    "print(\"Process tensor (PT) computation:\")\n",
    "pt = oqupy.pt_tempo_compute(\n",
    "    bath=bath,\n",
    "    start_time=0.0,\n",
    "    end_time=num_steps * pt_tebd_params.dt,\n",
    "    parameters=tempo_parameters,\n",
    "    progress_type='bar')"
   ]
  },
  {
   "cell_type": "markdown",
   "metadata": {},
   "source": [
    "To see the effect of the environment clearly we start in a fully mixed chain state."
   ]
  },
  {
   "cell_type": "code",
   "execution_count": 14,
   "metadata": {},
   "outputs": [],
   "source": [
    "initial_augmented_mps_B = oqupy.AugmentedMPS([mixed_dm, mixed_dm, mixed_dm, mixed_dm, mixed_dm])"
   ]
  },
  {
   "cell_type": "markdown",
   "metadata": {},
   "source": [
    "Again, we prepare a `PtTebd` object to collect all necessary information. We can reuse the before created `SystemChain` and `PtTebdParameters` objects. This time we set the first item in the list of process tensors to the process tensor we just computed. This attaches the above specified environment to the first chain site. Because we don't want to couple the other sites to any environment we keep them free by setting them to `None`."
   ]
  },
  {
   "cell_type": "code",
   "execution_count": 15,
   "metadata": {},
   "outputs": [],
   "source": [
    "pt_tebd_open = oqupy.PtTebd(\n",
    "    initial_augmented_mps=initial_augmented_mps_B,\n",
    "    system_chain=system_chain,\n",
    "    process_tensors=[pt, None, None, None, None],\n",
    "    parameters=pt_tebd_params,\n",
    "    dynamics_sites=[0, 1, 2, 3, 4],\n",
    "    chain_control=None)"
   ]
  },
  {
   "cell_type": "code",
   "execution_count": 16,
   "metadata": {},
   "outputs": [
    {
     "name": "stdout",
     "output_type": "stream",
     "text": [
      "PT-TEBD computation (open spin chain):\n",
      "--> PT-TEBD computation:\n",
      "100.0%   20 of   20 [########################################] 00:00:01\n",
      "Elapsed time: 1.3s\n"
     ]
    }
   ],
   "source": [
    "print(\"PT-TEBD computation (open spin chain):\")\n",
    "results_open = pt_tebd_open.compute(num_steps, progress_type=\"bar\")"
   ]
  },
  {
   "cell_type": "code",
   "execution_count": 17,
   "metadata": {},
   "outputs": [
    {
     "data": {
      "text/plain": [
       "<matplotlib.legend.Legend at 0x7f2fb90f80a0>"
      ]
     },
     "execution_count": 17,
     "metadata": {},
     "output_type": "execute_result"
    },
    {
     "data": {
      "image/png": "[encoded data removed]",
      "text/plain": [
       "<Figure size 640x480 with 1 Axes>"
      ]
     },
     "metadata": {},
     "output_type": "display_data"
    }
   ],
   "source": [
    "for site, dyn in results_open['dynamics'].items():\n",
    "    plt.plot(*dyn.expectations(sz, real=True),\n",
    "             color=f\"C{site}\", linestyle=\"solid\",\n",
    "             label=f\"$\\\\langle s_{site}^z \\\\rangle$\")\n",
    "plt.legend()"
   ]
  },
  {
   "cell_type": "markdown",
   "metadata": {},
   "source": [
    "We can see that the environment starts to hybridize with the first spin and then the other spins start being affected too."
   ]
  }
 ],
 "metadata": {
  "interpreter": {
   "hash": "3306e98808c0871e8a1685f50cc307ae5b4a4a013844b10634a4efe89132c3fe"
  },
  "kernelspec": {
   "display_name": "oqupyPR",
   "language": "python",
   "name": "oqupypr"
  },
  "language_info": {
   "codemirror_mode": {
    "name": "ipython",
    "version": 3
   },
   "file_extension": ".py",
   "mimetype": "text/x-python",
   "name": "python",
   "nbconvert_exporter": "python",
   "pygments_lexer": "ipython3",
   "version": "3.10.9"
  },
  "widgets": {
   "application/vnd.jupyter.widget-state+json": {
    "state": {},
    "version_major": 1,
    "version_minor": 0
   }
  }
 },
 "nbformat": 4,
 "nbformat_minor": 2
}
